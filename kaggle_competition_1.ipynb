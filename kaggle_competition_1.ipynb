{
 "cells": [
  {
   "cell_type": "markdown",
   "metadata": {},
   "source": [
    "# Предсказание уровня зарплаты по описанию вакансии"
   ]
  },
  {
   "cell_type": "markdown",
   "metadata": {},
   "source": [
    "## Описание исследования\n",
    "Представлен набор данных с описаниями вакансий и сопутствующими характеристиками. Необходимо построить модель, которая будет точно предсказывать ожидаемый уровень стартовой зарплаты. Каждое описание вакансии содержит ценную информацию, такую как требуемые навыки, обязанности на работе и данные о компании."
   ]
  },
  {
   "cell_type": "markdown",
   "metadata": {},
   "source": [
    "## Цель исследования\n",
    "Решить задачу регрессии по прогнозированию уровня зарплаты на основе текстовых данных, информации о вакансии."
   ]
  },
  {
   "cell_type": "markdown",
   "metadata": {},
   "source": [
    "## Ход исследования\n",
    "1. Загрузка данных\n",
    "2. Предобработка и исследовательский анализ\n",
    "4. Подготовка данных\n",
    "5. Обучение моделей\n",
    "6. Получение предсказания на тестовой выборке"
   ]
  },
  {
   "cell_type": "markdown",
   "metadata": {},
   "source": [
    "## Описание данных\n",
    "- id - уникальный номер вакансии (категориальный признак)\n",
    "- vacancyName - название вакансии (категориальный признак)\n",
    "- codeProfessionalSphere - профессиональная сфера (категориальный признак)\n",
    "- salary - уровень зарплаты, целевой признак (количественный признак)\n",
    "- busyType - тип занятости (категориальный признак)\n",
    "- educationRequirements - требования к образованию (категориальный признак)\n",
    "- hardSkills - навыки, нужные для работы (категориальный признак)\n",
    "- softSkills - навыки для взаимодействия (категориальный признак)\n",
    "- scheduleType - форма занятости (категориальный признак)\n",
    "- companyBusinessSize - размер компании (категориальный признак)\n",
    "- regionName - наименование региона (категориальный признак)\n",
    "- qualifications - качества кандидата (категориальный признак)\n",
    "- responsibilities - трудовые обязанности (категориальный признак)"
   ]
  },
  {
   "cell_type": "code",
   "execution_count": 1,
   "metadata": {
    "_cell_guid": "b1076dfc-b9ad-4769-8c92-a6c4dae69d19",
    "_uuid": "8f2839f25d086af736a60e9eeb907d3b93b6e0e5",
    "execution": {
     "iopub.execute_input": "2025-02-19T12:02:36.051126Z",
     "iopub.status.busy": "2025-02-19T12:02:36.050552Z",
     "iopub.status.idle": "2025-02-19T12:02:36.059463Z",
     "shell.execute_reply": "2025-02-19T12:02:36.058231Z",
     "shell.execute_reply.started": "2025-02-19T12:02:36.051083Z"
    },
    "trusted": true
   },
   "outputs": [
    {
     "name": "stderr",
     "output_type": "stream",
     "text": [
      "c:\\Python\\Python312\\Lib\\site-packages\\dask\\dataframe\\__init__.py:42: FutureWarning: \n",
      "Dask dataframe query planning is disabled because dask-expr is not installed.\n",
      "\n",
      "You can install it with `pip install dask[dataframe]` or `conda install dask`.\n",
      "This will raise in a future version.\n",
      "\n",
      "  warnings.warn(msg, FutureWarning)\n"
     ]
    }
   ],
   "source": [
    "# импорт библиотек\n",
    "\n",
    "# работа с данными\n",
    "import numpy as np\n",
    "import pandas as pd\n",
    "from scipy.sparse import hstack, save_npz, csr_matrix\n",
    "\n",
    "# инструменты анализа\n",
    "from phik.report import plot_correlation_matrix\n",
    "from phik import phik_matrix\n",
    "\n",
    "# работа с графикой\n",
    "from matplotlib import pyplot as plt\n",
    "\n",
    "# подготовка данных\n",
    "from sklearn.model_selection import train_test_split\n",
    "from category_encoders import CatBoostEncoder\n",
    "import nltk\n",
    "from nltk.stem import WordNetLemmatizer, SnowballStemmer\n",
    "from nltk.tokenize import word_tokenize\n",
    "from nltk.corpus import stopwords\n",
    "import re\n",
    "from sklearn.feature_extraction.text import TfidfVectorizer\n",
    "\n",
    "# пайплайны\n",
    "from sklearn.pipeline import Pipeline\n",
    "from sklearn.model_selection import GridSearchCV\n",
    "\n",
    "# модели машинного обучения\n",
    "from sklearn.linear_model import LinearRegression\n",
    "from sklearn.tree import DecisionTreeRegressor\n",
    "from lightgbm import LGBMRegressor\n",
    "\n",
    "# метрика для оценки прогноза\n",
    "from sklearn.metrics import root_mean_squared_error"
   ]
  },
  {
   "cell_type": "code",
   "execution_count": 2,
   "metadata": {
    "execution": {
     "iopub.execute_input": "2025-02-19T12:02:36.061781Z",
     "iopub.status.busy": "2025-02-19T12:02:36.061417Z",
     "iopub.status.idle": "2025-02-19T12:02:36.081606Z",
     "shell.execute_reply": "2025-02-19T12:02:36.080475Z",
     "shell.execute_reply.started": "2025-02-19T12:02:36.061746Z"
    },
    "trusted": true
   },
   "outputs": [],
   "source": [
    "# константы\n",
    "TEST_SIZE = 0.25 \n",
    "RANDOM_STATE = 42"
   ]
  },
  {
   "cell_type": "code",
   "execution_count": 3,
   "metadata": {
    "execution": {
     "iopub.execute_input": "2025-02-19T12:02:36.084440Z",
     "iopub.status.busy": "2025-02-19T12:02:36.083786Z",
     "iopub.status.idle": "2025-02-19T12:02:36.108195Z",
     "shell.execute_reply": "2025-02-19T12:02:36.106846Z",
     "shell.execute_reply.started": "2025-02-19T12:02:36.084407Z"
    },
    "trusted": true
   },
   "outputs": [],
   "source": [
    "# обзор директории\n",
    "import os\n",
    "for dirname, _, filenames in os.walk('/kaggle/input'):\n",
    "    for filename in filenames:\n",
    "        print(os.path.join(dirname, filename))"
   ]
  },
  {
   "cell_type": "markdown",
   "metadata": {},
   "source": [
    "## 1. Загрузка данных"
   ]
  },
  {
   "cell_type": "code",
   "execution_count": 4,
   "metadata": {
    "execution": {
     "iopub.execute_input": "2025-02-19T12:02:36.110181Z",
     "iopub.status.busy": "2025-02-19T12:02:36.109765Z",
     "iopub.status.idle": "2025-02-19T12:02:48.025972Z",
     "shell.execute_reply": "2025-02-19T12:02:48.024946Z",
     "shell.execute_reply.started": "2025-02-19T12:02:36.110148Z"
    },
    "trusted": true
   },
   "outputs": [],
   "source": [
    "# загрузка данных тренировочной выборки\n",
    "try:\n",
    "    train = pd.read_csv(\"train.csv\", index_col='id')\n",
    "except:\n",
    "    train = pd.read_csv(\"/kaggle/input/trudvsem/train.csv\", index_col='id')"
   ]
  },
  {
   "cell_type": "code",
   "execution_count": 5,
   "metadata": {},
   "outputs": [
    {
     "data": {
      "text/plain": [
       "(382090, 12)"
      ]
     },
     "execution_count": 5,
     "metadata": {},
     "output_type": "execute_result"
    }
   ],
   "source": [
    "train.shape"
   ]
  },
  {
   "cell_type": "code",
   "execution_count": null,
   "metadata": {},
   "outputs": [
    {
     "data": {
      "text/plain": [
       "28981.40366027144"
      ]
     },
     "execution_count": 11,
     "metadata": {},
     "output_type": "execute_result"
    }
   ],
   "source": [
    "# оценка базового прогноза путем заполнения медианными значениями\n",
    "baseline_prediction = [train['salary'].median()] * len(train)\n",
    "baseline_prediction\n",
    "root_mean_squared_error(train['salary'], baseline_prediction)"
   ]
  },
  {
   "cell_type": "code",
   "execution_count": 6,
   "metadata": {
    "execution": {
     "iopub.execute_input": "2025-02-19T12:02:48.027659Z",
     "iopub.status.busy": "2025-02-19T12:02:48.027227Z",
     "iopub.status.idle": "2025-02-19T12:02:52.785420Z",
     "shell.execute_reply": "2025-02-19T12:02:52.784324Z",
     "shell.execute_reply.started": "2025-02-19T12:02:48.027625Z"
    },
    "trusted": true
   },
   "outputs": [],
   "source": [
    "# загрузка данных тестовой выборки\n",
    "try:\n",
    "    test = pd.read_csv(\"test.csv\", index_col='id')\n",
    "except:\n",
    "    test = pd.read_csv(\"/kaggle/input/trudvsem/test.csv\", index_col='id')"
   ]
  },
  {
   "cell_type": "markdown",
   "metadata": {
    "execution": {
     "iopub.execute_input": "2025-01-08T16:59:58.166614Z",
     "iopub.status.busy": "2025-01-08T16:59:58.166163Z",
     "iopub.status.idle": "2025-01-08T16:59:58.171230Z",
     "shell.execute_reply": "2025-01-08T16:59:58.169767Z",
     "shell.execute_reply.started": "2025-01-08T16:59:58.166581Z"
    }
   },
   "source": [
    "## 2. Предобработка и исследовательский анализ"
   ]
  },
  {
   "cell_type": "code",
   "execution_count": 7,
   "metadata": {
    "execution": {
     "iopub.execute_input": "2025-02-19T12:02:52.787972Z",
     "iopub.status.busy": "2025-02-19T12:02:52.787528Z",
     "iopub.status.idle": "2025-02-19T12:02:52.793121Z",
     "shell.execute_reply": "2025-02-19T12:02:52.791974Z",
     "shell.execute_reply.started": "2025-02-19T12:02:52.787929Z"
    },
    "trusted": true
   },
   "outputs": [],
   "source": [
    "# функция для обзора данных\n",
    "def preview(dataset):\n",
    "    '''Функция принимает на вход набор данных и выводит основную информацию о нем.'''\n",
    "    display(dataset.head())\n",
    "    dataset.info()\n",
    "    display(dataset.describe(include='all').T)"
   ]
  },
  {
   "cell_type": "code",
   "execution_count": 8,
   "metadata": {
    "execution": {
     "iopub.execute_input": "2025-02-19T12:02:52.794792Z",
     "iopub.status.busy": "2025-02-19T12:02:52.794333Z",
     "iopub.status.idle": "2025-02-19T12:02:54.615060Z",
     "shell.execute_reply": "2025-02-19T12:02:54.613812Z",
     "shell.execute_reply.started": "2025-02-19T12:02:52.794740Z"
    },
    "trusted": true
   },
   "outputs": [
    {
     "data": {
      "text/html": [
       "<div>\n",
       "<style scoped>\n",
       "    .dataframe tbody tr th:only-of-type {\n",
       "        vertical-align: middle;\n",
       "    }\n",
       "\n",
       "    .dataframe tbody tr th {\n",
       "        vertical-align: top;\n",
       "    }\n",
       "\n",
       "    .dataframe thead th {\n",
       "        text-align: right;\n",
       "    }\n",
       "</style>\n",
       "<table border=\"1\" class=\"dataframe\">\n",
       "  <thead>\n",
       "    <tr style=\"text-align: right;\">\n",
       "      <th></th>\n",
       "      <th>vacancyName</th>\n",
       "      <th>codeProfessionalSphere</th>\n",
       "      <th>salary</th>\n",
       "      <th>busyType</th>\n",
       "      <th>educationRequirements</th>\n",
       "      <th>hardSkills</th>\n",
       "      <th>softSkills</th>\n",
       "      <th>scheduleType</th>\n",
       "      <th>companyBusinessSize</th>\n",
       "      <th>regionName</th>\n",
       "      <th>qualifications</th>\n",
       "      <th>responsibilities</th>\n",
       "    </tr>\n",
       "    <tr>\n",
       "      <th>id</th>\n",
       "      <th></th>\n",
       "      <th></th>\n",
       "      <th></th>\n",
       "      <th></th>\n",
       "      <th></th>\n",
       "      <th></th>\n",
       "      <th></th>\n",
       "      <th></th>\n",
       "      <th></th>\n",
       "      <th></th>\n",
       "      <th></th>\n",
       "      <th></th>\n",
       "    </tr>\n",
       "  </thead>\n",
       "  <tbody>\n",
       "    <tr>\n",
       "      <th>64ca3de9-8523-11ef-b757-b905f621e080</th>\n",
       "      <td>Продавец кулинар</td>\n",
       "      <td>Sales</td>\n",
       "      <td>30788</td>\n",
       "      <td>Полная занятость</td>\n",
       "      <td>Не указано</td>\n",
       "      <td>NaN</td>\n",
       "      <td>NaN</td>\n",
       "      <td>Полный рабочий день</td>\n",
       "      <td>SMALL</td>\n",
       "      <td>Красноярский край</td>\n",
       "      <td>Желание работать, кандидаты без опыта</td>\n",
       "      <td>Приемка товара, продажа, приемка пф, расстойка...</td>\n",
       "    </tr>\n",
       "    <tr>\n",
       "      <th>d6d4c8ba-7682-11ef-b8ae-e7d0d2cf29b1</th>\n",
       "      <td>Дворник</td>\n",
       "      <td>NotQualification</td>\n",
       "      <td>55000</td>\n",
       "      <td>Полная занятость</td>\n",
       "      <td>Не указано</td>\n",
       "      <td>работа в команде</td>\n",
       "      <td>NaN</td>\n",
       "      <td>Полный рабочий день</td>\n",
       "      <td>SMALL</td>\n",
       "      <td>Краснодарский край</td>\n",
       "      <td>энергичность и активность- трудолюбие и коммун...</td>\n",
       "      <td>- уборка территории -поддержание чистоты на пр...</td>\n",
       "    </tr>\n",
       "    <tr>\n",
       "      <th>0f607d75-1137-11ef-8f26-cb26dff57dd7</th>\n",
       "      <td>оператор пункта выдачи заказов</td>\n",
       "      <td>Sales</td>\n",
       "      <td>30000</td>\n",
       "      <td>Полная занятость</td>\n",
       "      <td>Не указано</td>\n",
       "      <td>работа с пк и оргтехникой</td>\n",
       "      <td>NaN</td>\n",
       "      <td>Полный рабочий день</td>\n",
       "      <td>SMALL</td>\n",
       "      <td>Город Севастополь</td>\n",
       "      <td>Стрессоустойчивый, внимательный, аккуратный и ...</td>\n",
       "      <td>Выдача и приём посылок. Поддержание чистоты и ...</td>\n",
       "    </tr>\n",
       "    <tr>\n",
       "      <th>0d5fda89-7658-11ef-8c44-cb26dff57dd7</th>\n",
       "      <td>Специалист по профессиональной уборке</td>\n",
       "      <td>Education</td>\n",
       "      <td>19900</td>\n",
       "      <td>Полная занятость</td>\n",
       "      <td>Не указано</td>\n",
       "      <td>NaN</td>\n",
       "      <td>NaN</td>\n",
       "      <td>Неполный рабочий день</td>\n",
       "      <td>SMALL</td>\n",
       "      <td>Ставропольский край</td>\n",
       "      <td>Ответственность, аккуратность, чистоплотность,...</td>\n",
       "      <td>Уборка аудиторий, компьютерных классов, кафедр...</td>\n",
       "    </tr>\n",
       "    <tr>\n",
       "      <th>48c4ed78-74b6-11ef-9c4d-d549be31d974</th>\n",
       "      <td>Пекарь</td>\n",
       "      <td>Food</td>\n",
       "      <td>42333</td>\n",
       "      <td>Полная занятость</td>\n",
       "      <td>Не указано</td>\n",
       "      <td>NaN</td>\n",
       "      <td>NaN</td>\n",
       "      <td>Полный рабочий день</td>\n",
       "      <td>SMALL</td>\n",
       "      <td>Ханты-Мансийский автономный округ - Югра</td>\n",
       "      <td>Ответственность, исполнительность</td>\n",
       "      <td>Выпечка хлеба и хлебобулочных изделий</td>\n",
       "    </tr>\n",
       "  </tbody>\n",
       "</table>\n",
       "</div>"
      ],
      "text/plain": [
       "                                                                vacancyName  \\\n",
       "id                                                                            \n",
       "64ca3de9-8523-11ef-b757-b905f621e080                       Продавец кулинар   \n",
       "d6d4c8ba-7682-11ef-b8ae-e7d0d2cf29b1                                Дворник   \n",
       "0f607d75-1137-11ef-8f26-cb26dff57dd7         оператор пункта выдачи заказов   \n",
       "0d5fda89-7658-11ef-8c44-cb26dff57dd7  Специалист по профессиональной уборке   \n",
       "48c4ed78-74b6-11ef-9c4d-d549be31d974                                 Пекарь   \n",
       "\n",
       "                                     codeProfessionalSphere  salary  \\\n",
       "id                                                                    \n",
       "64ca3de9-8523-11ef-b757-b905f621e080                  Sales   30788   \n",
       "d6d4c8ba-7682-11ef-b8ae-e7d0d2cf29b1       NotQualification   55000   \n",
       "0f607d75-1137-11ef-8f26-cb26dff57dd7                  Sales   30000   \n",
       "0d5fda89-7658-11ef-8c44-cb26dff57dd7              Education   19900   \n",
       "48c4ed78-74b6-11ef-9c4d-d549be31d974                   Food   42333   \n",
       "\n",
       "                                              busyType educationRequirements  \\\n",
       "id                                                                             \n",
       "64ca3de9-8523-11ef-b757-b905f621e080  Полная занятость            Не указано   \n",
       "d6d4c8ba-7682-11ef-b8ae-e7d0d2cf29b1  Полная занятость            Не указано   \n",
       "0f607d75-1137-11ef-8f26-cb26dff57dd7  Полная занятость            Не указано   \n",
       "0d5fda89-7658-11ef-8c44-cb26dff57dd7  Полная занятость            Не указано   \n",
       "48c4ed78-74b6-11ef-9c4d-d549be31d974  Полная занятость            Не указано   \n",
       "\n",
       "                                                     hardSkills softSkills  \\\n",
       "id                                                                           \n",
       "64ca3de9-8523-11ef-b757-b905f621e080                        NaN        NaN   \n",
       "d6d4c8ba-7682-11ef-b8ae-e7d0d2cf29b1           работа в команде        NaN   \n",
       "0f607d75-1137-11ef-8f26-cb26dff57dd7  работа с пк и оргтехникой        NaN   \n",
       "0d5fda89-7658-11ef-8c44-cb26dff57dd7                        NaN        NaN   \n",
       "48c4ed78-74b6-11ef-9c4d-d549be31d974                        NaN        NaN   \n",
       "\n",
       "                                               scheduleType  \\\n",
       "id                                                            \n",
       "64ca3de9-8523-11ef-b757-b905f621e080    Полный рабочий день   \n",
       "d6d4c8ba-7682-11ef-b8ae-e7d0d2cf29b1    Полный рабочий день   \n",
       "0f607d75-1137-11ef-8f26-cb26dff57dd7    Полный рабочий день   \n",
       "0d5fda89-7658-11ef-8c44-cb26dff57dd7  Неполный рабочий день   \n",
       "48c4ed78-74b6-11ef-9c4d-d549be31d974    Полный рабочий день   \n",
       "\n",
       "                                     companyBusinessSize  \\\n",
       "id                                                         \n",
       "64ca3de9-8523-11ef-b757-b905f621e080               SMALL   \n",
       "d6d4c8ba-7682-11ef-b8ae-e7d0d2cf29b1               SMALL   \n",
       "0f607d75-1137-11ef-8f26-cb26dff57dd7               SMALL   \n",
       "0d5fda89-7658-11ef-8c44-cb26dff57dd7               SMALL   \n",
       "48c4ed78-74b6-11ef-9c4d-d549be31d974               SMALL   \n",
       "\n",
       "                                                                    regionName  \\\n",
       "id                                                                               \n",
       "64ca3de9-8523-11ef-b757-b905f621e080                         Красноярский край   \n",
       "d6d4c8ba-7682-11ef-b8ae-e7d0d2cf29b1                        Краснодарский край   \n",
       "0f607d75-1137-11ef-8f26-cb26dff57dd7                         Город Севастополь   \n",
       "0d5fda89-7658-11ef-8c44-cb26dff57dd7                       Ставропольский край   \n",
       "48c4ed78-74b6-11ef-9c4d-d549be31d974  Ханты-Мансийский автономный округ - Югра   \n",
       "\n",
       "                                                                         qualifications  \\\n",
       "id                                                                                        \n",
       "64ca3de9-8523-11ef-b757-b905f621e080              Желание работать, кандидаты без опыта   \n",
       "d6d4c8ba-7682-11ef-b8ae-e7d0d2cf29b1  энергичность и активность- трудолюбие и коммун...   \n",
       "0f607d75-1137-11ef-8f26-cb26dff57dd7  Стрессоустойчивый, внимательный, аккуратный и ...   \n",
       "0d5fda89-7658-11ef-8c44-cb26dff57dd7  Ответственность, аккуратность, чистоплотность,...   \n",
       "48c4ed78-74b6-11ef-9c4d-d549be31d974                  Ответственность, исполнительность   \n",
       "\n",
       "                                                                       responsibilities  \n",
       "id                                                                                       \n",
       "64ca3de9-8523-11ef-b757-b905f621e080  Приемка товара, продажа, приемка пф, расстойка...  \n",
       "d6d4c8ba-7682-11ef-b8ae-e7d0d2cf29b1  - уборка территории -поддержание чистоты на пр...  \n",
       "0f607d75-1137-11ef-8f26-cb26dff57dd7  Выдача и приём посылок. Поддержание чистоты и ...  \n",
       "0d5fda89-7658-11ef-8c44-cb26dff57dd7  Уборка аудиторий, компьютерных классов, кафедр...  \n",
       "48c4ed78-74b6-11ef-9c4d-d549be31d974              Выпечка хлеба и хлебобулочных изделий  "
      ]
     },
     "metadata": {},
     "output_type": "display_data"
    },
    {
     "name": "stdout",
     "output_type": "stream",
     "text": [
      "<class 'pandas.core.frame.DataFrame'>\n",
      "Index: 382090 entries, 64ca3de9-8523-11ef-b757-b905f621e080 to ec5c1110-aaf9-11ef-98df-e73e8fa159bf\n",
      "Data columns (total 12 columns):\n",
      " #   Column                  Non-Null Count   Dtype \n",
      "---  ------                  --------------   ----- \n",
      " 0   vacancyName             382089 non-null  object\n",
      " 1   codeProfessionalSphere  382090 non-null  object\n",
      " 2   salary                  382090 non-null  int64 \n",
      " 3   busyType                382090 non-null  object\n",
      " 4   educationRequirements   382090 non-null  object\n",
      " 5   hardSkills              32274 non-null   object\n",
      " 6   softSkills              8202 non-null    object\n",
      " 7   scheduleType            382090 non-null  object\n",
      " 8   companyBusinessSize     382090 non-null  object\n",
      " 9   regionName              377995 non-null  object\n",
      " 10  qualifications          338312 non-null  object\n",
      " 11  responsibilities        379772 non-null  object\n",
      "dtypes: int64(1), object(11)\n",
      "memory usage: 37.9+ MB\n"
     ]
    },
    {
     "data": {
      "text/html": [
       "<div>\n",
       "<style scoped>\n",
       "    .dataframe tbody tr th:only-of-type {\n",
       "        vertical-align: middle;\n",
       "    }\n",
       "\n",
       "    .dataframe tbody tr th {\n",
       "        vertical-align: top;\n",
       "    }\n",
       "\n",
       "    .dataframe thead th {\n",
       "        text-align: right;\n",
       "    }\n",
       "</style>\n",
       "<table border=\"1\" class=\"dataframe\">\n",
       "  <thead>\n",
       "    <tr style=\"text-align: right;\">\n",
       "      <th></th>\n",
       "      <th>count</th>\n",
       "      <th>unique</th>\n",
       "      <th>top</th>\n",
       "      <th>freq</th>\n",
       "      <th>mean</th>\n",
       "      <th>std</th>\n",
       "      <th>min</th>\n",
       "      <th>25%</th>\n",
       "      <th>50%</th>\n",
       "      <th>75%</th>\n",
       "      <th>max</th>\n",
       "    </tr>\n",
       "  </thead>\n",
       "  <tbody>\n",
       "    <tr>\n",
       "      <th>vacancyName</th>\n",
       "      <td>382089</td>\n",
       "      <td>91867</td>\n",
       "      <td>Продавец-кассир</td>\n",
       "      <td>7126</td>\n",
       "      <td>NaN</td>\n",
       "      <td>NaN</td>\n",
       "      <td>NaN</td>\n",
       "      <td>NaN</td>\n",
       "      <td>NaN</td>\n",
       "      <td>NaN</td>\n",
       "      <td>NaN</td>\n",
       "    </tr>\n",
       "    <tr>\n",
       "      <th>codeProfessionalSphere</th>\n",
       "      <td>382090</td>\n",
       "      <td>35</td>\n",
       "      <td>Medicine</td>\n",
       "      <td>55667</td>\n",
       "      <td>NaN</td>\n",
       "      <td>NaN</td>\n",
       "      <td>NaN</td>\n",
       "      <td>NaN</td>\n",
       "      <td>NaN</td>\n",
       "      <td>NaN</td>\n",
       "      <td>NaN</td>\n",
       "    </tr>\n",
       "    <tr>\n",
       "      <th>salary</th>\n",
       "      <td>382090.0</td>\n",
       "      <td>NaN</td>\n",
       "      <td>NaN</td>\n",
       "      <td>NaN</td>\n",
       "      <td>43413.270879</td>\n",
       "      <td>27733.385012</td>\n",
       "      <td>10006.0</td>\n",
       "      <td>25000.0</td>\n",
       "      <td>35000.0</td>\n",
       "      <td>50000.0</td>\n",
       "      <td>800000.0</td>\n",
       "    </tr>\n",
       "    <tr>\n",
       "      <th>busyType</th>\n",
       "      <td>382090</td>\n",
       "      <td>6</td>\n",
       "      <td>Полная занятость</td>\n",
       "      <td>357425</td>\n",
       "      <td>NaN</td>\n",
       "      <td>NaN</td>\n",
       "      <td>NaN</td>\n",
       "      <td>NaN</td>\n",
       "      <td>NaN</td>\n",
       "      <td>NaN</td>\n",
       "      <td>NaN</td>\n",
       "    </tr>\n",
       "    <tr>\n",
       "      <th>educationRequirements</th>\n",
       "      <td>382090</td>\n",
       "      <td>7</td>\n",
       "      <td>Не указано</td>\n",
       "      <td>120361</td>\n",
       "      <td>NaN</td>\n",
       "      <td>NaN</td>\n",
       "      <td>NaN</td>\n",
       "      <td>NaN</td>\n",
       "      <td>NaN</td>\n",
       "      <td>NaN</td>\n",
       "      <td>NaN</td>\n",
       "    </tr>\n",
       "    <tr>\n",
       "      <th>hardSkills</th>\n",
       "      <td>32274</td>\n",
       "      <td>12697</td>\n",
       "      <td>умение работать в команде</td>\n",
       "      <td>1434</td>\n",
       "      <td>NaN</td>\n",
       "      <td>NaN</td>\n",
       "      <td>NaN</td>\n",
       "      <td>NaN</td>\n",
       "      <td>NaN</td>\n",
       "      <td>NaN</td>\n",
       "      <td>NaN</td>\n",
       "    </tr>\n",
       "    <tr>\n",
       "      <th>softSkills</th>\n",
       "      <td>8202</td>\n",
       "      <td>1660</td>\n",
       "      <td>Работа в команде</td>\n",
       "      <td>1670</td>\n",
       "      <td>NaN</td>\n",
       "      <td>NaN</td>\n",
       "      <td>NaN</td>\n",
       "      <td>NaN</td>\n",
       "      <td>NaN</td>\n",
       "      <td>NaN</td>\n",
       "      <td>NaN</td>\n",
       "    </tr>\n",
       "    <tr>\n",
       "      <th>scheduleType</th>\n",
       "      <td>382090</td>\n",
       "      <td>6</td>\n",
       "      <td>Полный рабочий день</td>\n",
       "      <td>285715</td>\n",
       "      <td>NaN</td>\n",
       "      <td>NaN</td>\n",
       "      <td>NaN</td>\n",
       "      <td>NaN</td>\n",
       "      <td>NaN</td>\n",
       "      <td>NaN</td>\n",
       "      <td>NaN</td>\n",
       "    </tr>\n",
       "    <tr>\n",
       "      <th>companyBusinessSize</th>\n",
       "      <td>382090</td>\n",
       "      <td>5</td>\n",
       "      <td>SMALL</td>\n",
       "      <td>268143</td>\n",
       "      <td>NaN</td>\n",
       "      <td>NaN</td>\n",
       "      <td>NaN</td>\n",
       "      <td>NaN</td>\n",
       "      <td>NaN</td>\n",
       "      <td>NaN</td>\n",
       "      <td>NaN</td>\n",
       "    </tr>\n",
       "    <tr>\n",
       "      <th>regionName</th>\n",
       "      <td>377995</td>\n",
       "      <td>90</td>\n",
       "      <td>Краснодарский край</td>\n",
       "      <td>17682</td>\n",
       "      <td>NaN</td>\n",
       "      <td>NaN</td>\n",
       "      <td>NaN</td>\n",
       "      <td>NaN</td>\n",
       "      <td>NaN</td>\n",
       "      <td>NaN</td>\n",
       "      <td>NaN</td>\n",
       "    </tr>\n",
       "    <tr>\n",
       "      <th>qualifications</th>\n",
       "      <td>338312</td>\n",
       "      <td>230964</td>\n",
       "      <td>Ответственность</td>\n",
       "      <td>3406</td>\n",
       "      <td>NaN</td>\n",
       "      <td>NaN</td>\n",
       "      <td>NaN</td>\n",
       "      <td>NaN</td>\n",
       "      <td>NaN</td>\n",
       "      <td>NaN</td>\n",
       "      <td>NaN</td>\n",
       "    </tr>\n",
       "    <tr>\n",
       "      <th>responsibilities</th>\n",
       "      <td>379772</td>\n",
       "      <td>301617</td>\n",
       "      <td>Согласно должностной инструкции</td>\n",
       "      <td>2250</td>\n",
       "      <td>NaN</td>\n",
       "      <td>NaN</td>\n",
       "      <td>NaN</td>\n",
       "      <td>NaN</td>\n",
       "      <td>NaN</td>\n",
       "      <td>NaN</td>\n",
       "      <td>NaN</td>\n",
       "    </tr>\n",
       "  </tbody>\n",
       "</table>\n",
       "</div>"
      ],
      "text/plain": [
       "                           count  unique                              top  \\\n",
       "vacancyName               382089   91867                  Продавец-кассир   \n",
       "codeProfessionalSphere    382090      35                         Medicine   \n",
       "salary                  382090.0     NaN                              NaN   \n",
       "busyType                  382090       6                 Полная занятость   \n",
       "educationRequirements     382090       7                       Не указано   \n",
       "hardSkills                 32274   12697        умение работать в команде   \n",
       "softSkills                  8202    1660                 Работа в команде   \n",
       "scheduleType              382090       6              Полный рабочий день   \n",
       "companyBusinessSize       382090       5                            SMALL   \n",
       "regionName                377995      90               Краснодарский край   \n",
       "qualifications            338312  230964                  Ответственность   \n",
       "responsibilities          379772  301617  Согласно должностной инструкции   \n",
       "\n",
       "                          freq          mean           std      min      25%  \\\n",
       "vacancyName               7126           NaN           NaN      NaN      NaN   \n",
       "codeProfessionalSphere   55667           NaN           NaN      NaN      NaN   \n",
       "salary                     NaN  43413.270879  27733.385012  10006.0  25000.0   \n",
       "busyType                357425           NaN           NaN      NaN      NaN   \n",
       "educationRequirements   120361           NaN           NaN      NaN      NaN   \n",
       "hardSkills                1434           NaN           NaN      NaN      NaN   \n",
       "softSkills                1670           NaN           NaN      NaN      NaN   \n",
       "scheduleType            285715           NaN           NaN      NaN      NaN   \n",
       "companyBusinessSize     268143           NaN           NaN      NaN      NaN   \n",
       "regionName               17682           NaN           NaN      NaN      NaN   \n",
       "qualifications            3406           NaN           NaN      NaN      NaN   \n",
       "responsibilities          2250           NaN           NaN      NaN      NaN   \n",
       "\n",
       "                            50%      75%       max  \n",
       "vacancyName                 NaN      NaN       NaN  \n",
       "codeProfessionalSphere      NaN      NaN       NaN  \n",
       "salary                  35000.0  50000.0  800000.0  \n",
       "busyType                    NaN      NaN       NaN  \n",
       "educationRequirements       NaN      NaN       NaN  \n",
       "hardSkills                  NaN      NaN       NaN  \n",
       "softSkills                  NaN      NaN       NaN  \n",
       "scheduleType                NaN      NaN       NaN  \n",
       "companyBusinessSize         NaN      NaN       NaN  \n",
       "regionName                  NaN      NaN       NaN  \n",
       "qualifications              NaN      NaN       NaN  \n",
       "responsibilities            NaN      NaN       NaN  "
      ]
     },
     "metadata": {},
     "output_type": "display_data"
    }
   ],
   "source": [
    "# обзор данных тренировочной выборки\n",
    "preview(train)"
   ]
  },
  {
   "cell_type": "code",
   "execution_count": 9,
   "metadata": {
    "execution": {
     "iopub.execute_input": "2025-02-19T12:02:54.616541Z",
     "iopub.status.busy": "2025-02-19T12:02:54.616213Z",
     "iopub.status.idle": "2025-02-19T12:02:55.363711Z",
     "shell.execute_reply": "2025-02-19T12:02:55.362623Z",
     "shell.execute_reply.started": "2025-02-19T12:02:54.616515Z"
    },
    "trusted": true
   },
   "outputs": [
    {
     "data": {
      "text/html": [
       "<div>\n",
       "<style scoped>\n",
       "    .dataframe tbody tr th:only-of-type {\n",
       "        vertical-align: middle;\n",
       "    }\n",
       "\n",
       "    .dataframe tbody tr th {\n",
       "        vertical-align: top;\n",
       "    }\n",
       "\n",
       "    .dataframe thead th {\n",
       "        text-align: right;\n",
       "    }\n",
       "</style>\n",
       "<table border=\"1\" class=\"dataframe\">\n",
       "  <thead>\n",
       "    <tr style=\"text-align: right;\">\n",
       "      <th></th>\n",
       "      <th>vacancyName</th>\n",
       "      <th>codeProfessionalSphere</th>\n",
       "      <th>busyType</th>\n",
       "      <th>educationRequirements</th>\n",
       "      <th>hardSkills</th>\n",
       "      <th>softSkills</th>\n",
       "      <th>scheduleType</th>\n",
       "      <th>companyBusinessSize</th>\n",
       "      <th>regionName</th>\n",
       "      <th>qualifications</th>\n",
       "      <th>responsibilities</th>\n",
       "    </tr>\n",
       "    <tr>\n",
       "      <th>id</th>\n",
       "      <th></th>\n",
       "      <th></th>\n",
       "      <th></th>\n",
       "      <th></th>\n",
       "      <th></th>\n",
       "      <th></th>\n",
       "      <th></th>\n",
       "      <th></th>\n",
       "      <th></th>\n",
       "      <th></th>\n",
       "      <th></th>\n",
       "    </tr>\n",
       "  </thead>\n",
       "  <tbody>\n",
       "    <tr>\n",
       "      <th>fc232cb9-710a-11ef-977d-cb26dff57dd7</th>\n",
       "      <td>Работник на склад по выполнению погрузочно-раз...</td>\n",
       "      <td>NotQualification</td>\n",
       "      <td>Полная занятость</td>\n",
       "      <td>Не указано</td>\n",
       "      <td>адаптация новых сотрудников, выполнение участк...</td>\n",
       "      <td>NaN</td>\n",
       "      <td>Полный рабочий день</td>\n",
       "      <td>MICRO</td>\n",
       "      <td>Московская область</td>\n",
       "      <td>Способность быстро оценить оптимальный алгорит...</td>\n",
       "      <td>Своевреммено быть на рабочем месте. Погрузка и...</td>\n",
       "    </tr>\n",
       "    <tr>\n",
       "      <th>92fb2590-74b5-11ef-9c4d-d549be31d974</th>\n",
       "      <td>Уборщик производственных помещений</td>\n",
       "      <td>Food</td>\n",
       "      <td>Частичная занятость</td>\n",
       "      <td>Не указано</td>\n",
       "      <td>NaN</td>\n",
       "      <td>NaN</td>\n",
       "      <td>Полный рабочий день</td>\n",
       "      <td>SMALL</td>\n",
       "      <td>Ханты-Мансийский автономный округ - Югра</td>\n",
       "      <td>Ответственность, дисциплинированность</td>\n",
       "      <td>Уборка помещения пекарни, помощь пекарю в выпе...</td>\n",
       "    </tr>\n",
       "    <tr>\n",
       "      <th>2878af18-7cb4-11ef-84cc-cb26dff57dd7</th>\n",
       "      <td>подсобный рабочий</td>\n",
       "      <td>NotQualification</td>\n",
       "      <td>Временная</td>\n",
       "      <td>Не указано</td>\n",
       "      <td>ответственный подход к работе</td>\n",
       "      <td>NaN</td>\n",
       "      <td>Неполный рабочий день</td>\n",
       "      <td>SMALL</td>\n",
       "      <td>Ленинградская область</td>\n",
       "      <td>Вакансия без требований</td>\n",
       "      <td>Оказание помощи людям пожилого возраста. Орган...</td>\n",
       "    </tr>\n",
       "    <tr>\n",
       "      <th>18c05368-968c-11ef-844d-e7d0d2cf29b1</th>\n",
       "      <td>подсобный рабочий</td>\n",
       "      <td>NotQualification</td>\n",
       "      <td>Временная</td>\n",
       "      <td>Не указано</td>\n",
       "      <td>NaN</td>\n",
       "      <td>NaN</td>\n",
       "      <td>Неполный рабочий день</td>\n",
       "      <td>SMALL</td>\n",
       "      <td>Ямало-Ненецкий автономный округ</td>\n",
       "      <td>NaN</td>\n",
       "      <td>выполнение подсобных, ремонтных и вспомогатель...</td>\n",
       "    </tr>\n",
       "    <tr>\n",
       "      <th>42bd0008-9821-11ef-9d35-632315a70518</th>\n",
       "      <td>Санитар</td>\n",
       "      <td>Medicine</td>\n",
       "      <td>Временная</td>\n",
       "      <td>Не указано</td>\n",
       "      <td>NaN</td>\n",
       "      <td>NaN</td>\n",
       "      <td>Неполный рабочий день</td>\n",
       "      <td>SMALL</td>\n",
       "      <td>Ростовская область</td>\n",
       "      <td>Ответственность</td>\n",
       "      <td>Выполнение обязанностей в соответствии с должн...</td>\n",
       "    </tr>\n",
       "  </tbody>\n",
       "</table>\n",
       "</div>"
      ],
      "text/plain": [
       "                                                                            vacancyName  \\\n",
       "id                                                                                        \n",
       "fc232cb9-710a-11ef-977d-cb26dff57dd7  Работник на склад по выполнению погрузочно-раз...   \n",
       "92fb2590-74b5-11ef-9c4d-d549be31d974                 Уборщик производственных помещений   \n",
       "2878af18-7cb4-11ef-84cc-cb26dff57dd7                                  подсобный рабочий   \n",
       "18c05368-968c-11ef-844d-e7d0d2cf29b1                                  подсобный рабочий   \n",
       "42bd0008-9821-11ef-9d35-632315a70518                                            Санитар   \n",
       "\n",
       "                                     codeProfessionalSphere  \\\n",
       "id                                                            \n",
       "fc232cb9-710a-11ef-977d-cb26dff57dd7       NotQualification   \n",
       "92fb2590-74b5-11ef-9c4d-d549be31d974                   Food   \n",
       "2878af18-7cb4-11ef-84cc-cb26dff57dd7       NotQualification   \n",
       "18c05368-968c-11ef-844d-e7d0d2cf29b1       NotQualification   \n",
       "42bd0008-9821-11ef-9d35-632315a70518               Medicine   \n",
       "\n",
       "                                                 busyType  \\\n",
       "id                                                          \n",
       "fc232cb9-710a-11ef-977d-cb26dff57dd7     Полная занятость   \n",
       "92fb2590-74b5-11ef-9c4d-d549be31d974  Частичная занятость   \n",
       "2878af18-7cb4-11ef-84cc-cb26dff57dd7            Временная   \n",
       "18c05368-968c-11ef-844d-e7d0d2cf29b1            Временная   \n",
       "42bd0008-9821-11ef-9d35-632315a70518            Временная   \n",
       "\n",
       "                                     educationRequirements  \\\n",
       "id                                                           \n",
       "fc232cb9-710a-11ef-977d-cb26dff57dd7            Не указано   \n",
       "92fb2590-74b5-11ef-9c4d-d549be31d974            Не указано   \n",
       "2878af18-7cb4-11ef-84cc-cb26dff57dd7            Не указано   \n",
       "18c05368-968c-11ef-844d-e7d0d2cf29b1            Не указано   \n",
       "42bd0008-9821-11ef-9d35-632315a70518            Не указано   \n",
       "\n",
       "                                                                             hardSkills  \\\n",
       "id                                                                                        \n",
       "fc232cb9-710a-11ef-977d-cb26dff57dd7  адаптация новых сотрудников, выполнение участк...   \n",
       "92fb2590-74b5-11ef-9c4d-d549be31d974                                                NaN   \n",
       "2878af18-7cb4-11ef-84cc-cb26dff57dd7                      ответственный подход к работе   \n",
       "18c05368-968c-11ef-844d-e7d0d2cf29b1                                                NaN   \n",
       "42bd0008-9821-11ef-9d35-632315a70518                                                NaN   \n",
       "\n",
       "                                     softSkills           scheduleType  \\\n",
       "id                                                                       \n",
       "fc232cb9-710a-11ef-977d-cb26dff57dd7        NaN    Полный рабочий день   \n",
       "92fb2590-74b5-11ef-9c4d-d549be31d974        NaN    Полный рабочий день   \n",
       "2878af18-7cb4-11ef-84cc-cb26dff57dd7        NaN  Неполный рабочий день   \n",
       "18c05368-968c-11ef-844d-e7d0d2cf29b1        NaN  Неполный рабочий день   \n",
       "42bd0008-9821-11ef-9d35-632315a70518        NaN  Неполный рабочий день   \n",
       "\n",
       "                                     companyBusinessSize  \\\n",
       "id                                                         \n",
       "fc232cb9-710a-11ef-977d-cb26dff57dd7               MICRO   \n",
       "92fb2590-74b5-11ef-9c4d-d549be31d974               SMALL   \n",
       "2878af18-7cb4-11ef-84cc-cb26dff57dd7               SMALL   \n",
       "18c05368-968c-11ef-844d-e7d0d2cf29b1               SMALL   \n",
       "42bd0008-9821-11ef-9d35-632315a70518               SMALL   \n",
       "\n",
       "                                                                    regionName  \\\n",
       "id                                                                               \n",
       "fc232cb9-710a-11ef-977d-cb26dff57dd7                        Московская область   \n",
       "92fb2590-74b5-11ef-9c4d-d549be31d974  Ханты-Мансийский автономный округ - Югра   \n",
       "2878af18-7cb4-11ef-84cc-cb26dff57dd7                     Ленинградская область   \n",
       "18c05368-968c-11ef-844d-e7d0d2cf29b1           Ямало-Ненецкий автономный округ   \n",
       "42bd0008-9821-11ef-9d35-632315a70518                        Ростовская область   \n",
       "\n",
       "                                                                         qualifications  \\\n",
       "id                                                                                        \n",
       "fc232cb9-710a-11ef-977d-cb26dff57dd7  Способность быстро оценить оптимальный алгорит...   \n",
       "92fb2590-74b5-11ef-9c4d-d549be31d974              Ответственность, дисциплинированность   \n",
       "2878af18-7cb4-11ef-84cc-cb26dff57dd7                            Вакансия без требований   \n",
       "18c05368-968c-11ef-844d-e7d0d2cf29b1                                                NaN   \n",
       "42bd0008-9821-11ef-9d35-632315a70518                                    Ответственность   \n",
       "\n",
       "                                                                       responsibilities  \n",
       "id                                                                                       \n",
       "fc232cb9-710a-11ef-977d-cb26dff57dd7  Своевреммено быть на рабочем месте. Погрузка и...  \n",
       "92fb2590-74b5-11ef-9c4d-d549be31d974  Уборка помещения пекарни, помощь пекарю в выпе...  \n",
       "2878af18-7cb4-11ef-84cc-cb26dff57dd7  Оказание помощи людям пожилого возраста. Орган...  \n",
       "18c05368-968c-11ef-844d-e7d0d2cf29b1  выполнение подсобных, ремонтных и вспомогатель...  \n",
       "42bd0008-9821-11ef-9d35-632315a70518  Выполнение обязанностей в соответствии с должн...  "
      ]
     },
     "metadata": {},
     "output_type": "display_data"
    },
    {
     "name": "stdout",
     "output_type": "stream",
     "text": [
      "<class 'pandas.core.frame.DataFrame'>\n",
      "Index: 163753 entries, fc232cb9-710a-11ef-977d-cb26dff57dd7 to ec576e10-8a9f-11ee-b1e9-cb26dff57dd7\n",
      "Data columns (total 11 columns):\n",
      " #   Column                  Non-Null Count   Dtype \n",
      "---  ------                  --------------   ----- \n",
      " 0   vacancyName             163753 non-null  object\n",
      " 1   codeProfessionalSphere  163753 non-null  object\n",
      " 2   busyType                163753 non-null  object\n",
      " 3   educationRequirements   163753 non-null  object\n",
      " 4   hardSkills              14145 non-null   object\n",
      " 5   softSkills              3491 non-null    object\n",
      " 6   scheduleType            163753 non-null  object\n",
      " 7   companyBusinessSize     163753 non-null  object\n",
      " 8   regionName              161950 non-null  object\n",
      " 9   qualifications          144865 non-null  object\n",
      " 10  responsibilities        162742 non-null  object\n",
      "dtypes: object(11)\n",
      "memory usage: 15.0+ MB\n"
     ]
    },
    {
     "data": {
      "text/html": [
       "<div>\n",
       "<style scoped>\n",
       "    .dataframe tbody tr th:only-of-type {\n",
       "        vertical-align: middle;\n",
       "    }\n",
       "\n",
       "    .dataframe tbody tr th {\n",
       "        vertical-align: top;\n",
       "    }\n",
       "\n",
       "    .dataframe thead th {\n",
       "        text-align: right;\n",
       "    }\n",
       "</style>\n",
       "<table border=\"1\" class=\"dataframe\">\n",
       "  <thead>\n",
       "    <tr style=\"text-align: right;\">\n",
       "      <th></th>\n",
       "      <th>count</th>\n",
       "      <th>unique</th>\n",
       "      <th>top</th>\n",
       "      <th>freq</th>\n",
       "    </tr>\n",
       "  </thead>\n",
       "  <tbody>\n",
       "    <tr>\n",
       "      <th>vacancyName</th>\n",
       "      <td>163753</td>\n",
       "      <td>45897</td>\n",
       "      <td>Продавец-кассир</td>\n",
       "      <td>3048</td>\n",
       "    </tr>\n",
       "    <tr>\n",
       "      <th>codeProfessionalSphere</th>\n",
       "      <td>163753</td>\n",
       "      <td>35</td>\n",
       "      <td>Medicine</td>\n",
       "      <td>23850</td>\n",
       "    </tr>\n",
       "    <tr>\n",
       "      <th>busyType</th>\n",
       "      <td>163753</td>\n",
       "      <td>6</td>\n",
       "      <td>Полная занятость</td>\n",
       "      <td>153009</td>\n",
       "    </tr>\n",
       "    <tr>\n",
       "      <th>educationRequirements</th>\n",
       "      <td>163753</td>\n",
       "      <td>7</td>\n",
       "      <td>Не указано</td>\n",
       "      <td>51647</td>\n",
       "    </tr>\n",
       "    <tr>\n",
       "      <th>hardSkills</th>\n",
       "      <td>14145</td>\n",
       "      <td>6414</td>\n",
       "      <td>умение работать в команде</td>\n",
       "      <td>645</td>\n",
       "    </tr>\n",
       "    <tr>\n",
       "      <th>softSkills</th>\n",
       "      <td>3491</td>\n",
       "      <td>861</td>\n",
       "      <td>Работа в команде</td>\n",
       "      <td>711</td>\n",
       "    </tr>\n",
       "    <tr>\n",
       "      <th>scheduleType</th>\n",
       "      <td>163753</td>\n",
       "      <td>6</td>\n",
       "      <td>Полный рабочий день</td>\n",
       "      <td>122520</td>\n",
       "    </tr>\n",
       "    <tr>\n",
       "      <th>companyBusinessSize</th>\n",
       "      <td>163753</td>\n",
       "      <td>5</td>\n",
       "      <td>SMALL</td>\n",
       "      <td>115257</td>\n",
       "    </tr>\n",
       "    <tr>\n",
       "      <th>regionName</th>\n",
       "      <td>161950</td>\n",
       "      <td>90</td>\n",
       "      <td>Краснодарский край</td>\n",
       "      <td>7510</td>\n",
       "    </tr>\n",
       "    <tr>\n",
       "      <th>qualifications</th>\n",
       "      <td>144865</td>\n",
       "      <td>106956</td>\n",
       "      <td>Ответственность</td>\n",
       "      <td>1533</td>\n",
       "    </tr>\n",
       "    <tr>\n",
       "      <th>responsibilities</th>\n",
       "      <td>162742</td>\n",
       "      <td>136945</td>\n",
       "      <td>Согласно должностной инструкции</td>\n",
       "      <td>962</td>\n",
       "    </tr>\n",
       "  </tbody>\n",
       "</table>\n",
       "</div>"
      ],
      "text/plain": [
       "                         count  unique                              top  \\\n",
       "vacancyName             163753   45897                  Продавец-кассир   \n",
       "codeProfessionalSphere  163753      35                         Medicine   \n",
       "busyType                163753       6                 Полная занятость   \n",
       "educationRequirements   163753       7                       Не указано   \n",
       "hardSkills               14145    6414        умение работать в команде   \n",
       "softSkills                3491     861                 Работа в команде   \n",
       "scheduleType            163753       6              Полный рабочий день   \n",
       "companyBusinessSize     163753       5                            SMALL   \n",
       "regionName              161950      90               Краснодарский край   \n",
       "qualifications          144865  106956                  Ответственность   \n",
       "responsibilities        162742  136945  Согласно должностной инструкции   \n",
       "\n",
       "                          freq  \n",
       "vacancyName               3048  \n",
       "codeProfessionalSphere   23850  \n",
       "busyType                153009  \n",
       "educationRequirements    51647  \n",
       "hardSkills                 645  \n",
       "softSkills                 711  \n",
       "scheduleType            122520  \n",
       "companyBusinessSize     115257  \n",
       "regionName                7510  \n",
       "qualifications            1533  \n",
       "responsibilities           962  "
      ]
     },
     "metadata": {},
     "output_type": "display_data"
    }
   ],
   "source": [
    "# обзор данных тестовой выборки\n",
    "preview(test)"
   ]
  },
  {
   "cell_type": "code",
   "execution_count": 10,
   "metadata": {
    "execution": {
     "iopub.execute_input": "2025-02-19T12:02:55.366874Z",
     "iopub.status.busy": "2025-02-19T12:02:55.366550Z",
     "iopub.status.idle": "2025-02-19T12:02:55.372735Z",
     "shell.execute_reply": "2025-02-19T12:02:55.371461Z",
     "shell.execute_reply.started": "2025-02-19T12:02:55.366833Z"
    },
    "trusted": true
   },
   "outputs": [],
   "source": [
    "# функция для snake_case\n",
    "def make_snake(header):\n",
    "    '''Функция принимает на вход заголовок и возвращает snake_case'''\n",
    "    result = ''\n",
    "    \n",
    "    # поставить перед всеми словами нижнее подчеркивание\n",
    "    for letter in header:\n",
    "        if letter.isupper():\n",
    "            result += '_' + letter.lower()\n",
    "        else:\n",
    "            result += letter\n",
    "            \n",
    "    # удалить нижнее подчеркивание в начале слова\n",
    "    if result[0] == '_':\n",
    "        result = result[1:]\n",
    "    return result"
   ]
  },
  {
   "cell_type": "code",
   "execution_count": 11,
   "metadata": {
    "execution": {
     "iopub.execute_input": "2025-02-19T12:02:55.375784Z",
     "iopub.status.busy": "2025-02-19T12:02:55.375490Z",
     "iopub.status.idle": "2025-02-19T12:02:55.396300Z",
     "shell.execute_reply": "2025-02-19T12:02:55.395110Z",
     "shell.execute_reply.started": "2025-02-19T12:02:55.375759Z"
    },
    "trusted": true
   },
   "outputs": [],
   "source": [
    "# корректировка названий столбцов\n",
    "train.columns = [make_snake(header) for header in train.columns]\n",
    "test.columns = [make_snake(header) for header in test.columns]"
   ]
  },
  {
   "cell_type": "code",
   "execution_count": 12,
   "metadata": {
    "execution": {
     "iopub.execute_input": "2025-02-19T12:02:55.397696Z",
     "iopub.status.busy": "2025-02-19T12:02:55.397377Z",
     "iopub.status.idle": "2025-02-19T12:02:56.028242Z",
     "shell.execute_reply": "2025-02-19T12:02:56.027141Z",
     "shell.execute_reply.started": "2025-02-19T12:02:55.397667Z"
    },
    "trusted": true
   },
   "outputs": [
    {
     "data": {
      "text/plain": [
       "np.int64(15971)"
      ]
     },
     "execution_count": 12,
     "metadata": {},
     "output_type": "execute_result"
    }
   ],
   "source": [
    "# проверка полных дубликатов в тренировочной выборке\n",
    "train.duplicated().sum()"
   ]
  },
  {
   "cell_type": "code",
   "execution_count": 13,
   "metadata": {
    "execution": {
     "iopub.execute_input": "2025-02-19T12:02:56.029891Z",
     "iopub.status.busy": "2025-02-19T12:02:56.029437Z",
     "iopub.status.idle": "2025-02-19T12:02:56.275393Z",
     "shell.execute_reply": "2025-02-19T12:02:56.274317Z",
     "shell.execute_reply.started": "2025-02-19T12:02:56.029826Z"
    },
    "trusted": true
   },
   "outputs": [
    {
     "data": {
      "text/plain": [
       "vacancy_name                     1\n",
       "code_professional_sphere         0\n",
       "salary                           0\n",
       "busy_type                        0\n",
       "education_requirements           0\n",
       "hard_skills                 349816\n",
       "soft_skills                 373888\n",
       "schedule_type                    0\n",
       "company_business_size            0\n",
       "region_name                   4095\n",
       "qualifications               43778\n",
       "responsibilities              2318\n",
       "dtype: int64"
      ]
     },
     "execution_count": 13,
     "metadata": {},
     "output_type": "execute_result"
    }
   ],
   "source": [
    "# проверка пропусков в тренировочной выборке\n",
    "train.isna().sum()"
   ]
  },
  {
   "cell_type": "code",
   "execution_count": 14,
   "metadata": {
    "execution": {
     "iopub.execute_input": "2025-02-19T12:02:56.276649Z",
     "iopub.status.busy": "2025-02-19T12:02:56.276381Z",
     "iopub.status.idle": "2025-02-19T12:02:56.315080Z",
     "shell.execute_reply": "2025-02-19T12:02:56.313712Z",
     "shell.execute_reply.started": "2025-02-19T12:02:56.276627Z"
    },
    "trusted": true
   },
   "outputs": [
    {
     "data": {
      "text/html": [
       "<div>\n",
       "<style scoped>\n",
       "    .dataframe tbody tr th:only-of-type {\n",
       "        vertical-align: middle;\n",
       "    }\n",
       "\n",
       "    .dataframe tbody tr th {\n",
       "        vertical-align: top;\n",
       "    }\n",
       "\n",
       "    .dataframe thead th {\n",
       "        text-align: right;\n",
       "    }\n",
       "</style>\n",
       "<table border=\"1\" class=\"dataframe\">\n",
       "  <thead>\n",
       "    <tr style=\"text-align: right;\">\n",
       "      <th></th>\n",
       "      <th>vacancy_name</th>\n",
       "      <th>code_professional_sphere</th>\n",
       "      <th>salary</th>\n",
       "      <th>busy_type</th>\n",
       "      <th>education_requirements</th>\n",
       "      <th>hard_skills</th>\n",
       "      <th>soft_skills</th>\n",
       "      <th>schedule_type</th>\n",
       "      <th>company_business_size</th>\n",
       "      <th>region_name</th>\n",
       "      <th>qualifications</th>\n",
       "      <th>responsibilities</th>\n",
       "    </tr>\n",
       "    <tr>\n",
       "      <th>id</th>\n",
       "      <th></th>\n",
       "      <th></th>\n",
       "      <th></th>\n",
       "      <th></th>\n",
       "      <th></th>\n",
       "      <th></th>\n",
       "      <th></th>\n",
       "      <th></th>\n",
       "      <th></th>\n",
       "      <th></th>\n",
       "      <th></th>\n",
       "      <th></th>\n",
       "    </tr>\n",
       "  </thead>\n",
       "  <tbody>\n",
       "    <tr>\n",
       "      <th>ab590b25-bf03-11ed-a5f0-91f5d381286a</th>\n",
       "      <td>NaN</td>\n",
       "      <td>Medicine</td>\n",
       "      <td>35000</td>\n",
       "      <td>Полная занятость</td>\n",
       "      <td>Высшее</td>\n",
       "      <td>NaN</td>\n",
       "      <td>NaN</td>\n",
       "      <td>Полный рабочий день</td>\n",
       "      <td>SMALL</td>\n",
       "      <td>Челябинская область</td>\n",
       "      <td>Дисциплинированность, ответственность, коммуни...</td>\n",
       "      <td>Обследование детей с цельюустановления диагноз...</td>\n",
       "    </tr>\n",
       "  </tbody>\n",
       "</table>\n",
       "</div>"
      ],
      "text/plain": [
       "                                     vacancy_name code_professional_sphere  \\\n",
       "id                                                                           \n",
       "ab590b25-bf03-11ed-a5f0-91f5d381286a          NaN                 Medicine   \n",
       "\n",
       "                                      salary         busy_type  \\\n",
       "id                                                               \n",
       "ab590b25-bf03-11ed-a5f0-91f5d381286a   35000  Полная занятость   \n",
       "\n",
       "                                     education_requirements hard_skills  \\\n",
       "id                                                                        \n",
       "ab590b25-bf03-11ed-a5f0-91f5d381286a                 Высшее         NaN   \n",
       "\n",
       "                                     soft_skills        schedule_type  \\\n",
       "id                                                                      \n",
       "ab590b25-bf03-11ed-a5f0-91f5d381286a         NaN  Полный рабочий день   \n",
       "\n",
       "                                     company_business_size  \\\n",
       "id                                                           \n",
       "ab590b25-bf03-11ed-a5f0-91f5d381286a                 SMALL   \n",
       "\n",
       "                                              region_name  \\\n",
       "id                                                          \n",
       "ab590b25-bf03-11ed-a5f0-91f5d381286a  Челябинская область   \n",
       "\n",
       "                                                                         qualifications  \\\n",
       "id                                                                                        \n",
       "ab590b25-bf03-11ed-a5f0-91f5d381286a  Дисциплинированность, ответственность, коммуни...   \n",
       "\n",
       "                                                                       responsibilities  \n",
       "id                                                                                       \n",
       "ab590b25-bf03-11ed-a5f0-91f5d381286a  Обследование детей с цельюустановления диагноз...  "
      ]
     },
     "execution_count": 14,
     "metadata": {},
     "output_type": "execute_result"
    }
   ],
   "source": [
    "# данные о вакансии без названия\n",
    "train[train['vacancy_name'].isna()]"
   ]
  },
  {
   "cell_type": "code",
   "execution_count": 15,
   "metadata": {
    "execution": {
     "iopub.execute_input": "2025-02-19T12:02:56.316399Z",
     "iopub.status.busy": "2025-02-19T12:02:56.316103Z",
     "iopub.status.idle": "2025-02-19T12:02:56.367769Z",
     "shell.execute_reply": "2025-02-19T12:02:56.366548Z",
     "shell.execute_reply.started": "2025-02-19T12:02:56.316374Z"
    },
    "trusted": true
   },
   "outputs": [
    {
     "name": "stderr",
     "output_type": "stream",
     "text": [
      "C:\\Users\\andro\\AppData\\Local\\Temp\\ipykernel_21316\\1991088250.py:2: FutureWarning: A value is trying to be set on a copy of a DataFrame or Series through chained assignment using an inplace method.\n",
      "The behavior will change in pandas 3.0. This inplace method will never work because the intermediate object on which we are setting values always behaves as a copy.\n",
      "\n",
      "For example, when doing 'df[col].method(value, inplace=True)', try using 'df.method({col: value}, inplace=True)' or df[col] = df[col].method(value) instead, to perform the operation inplace on the original object.\n",
      "\n",
      "\n",
      "  train['vacancy_name'].fillna('врач-педиатр', inplace=True)\n"
     ]
    }
   ],
   "source": [
    "# устраним пропуск по описанию вакансии\n",
    "train['vacancy_name'].fillna('врач-педиатр', inplace=True)"
   ]
  },
  {
   "cell_type": "code",
   "execution_count": 16,
   "metadata": {
    "execution": {
     "iopub.execute_input": "2025-02-19T12:02:56.369172Z",
     "iopub.status.busy": "2025-02-19T12:02:56.368821Z",
     "iopub.status.idle": "2025-02-19T12:02:56.487096Z",
     "shell.execute_reply": "2025-02-19T12:02:56.485921Z",
     "shell.execute_reply.started": "2025-02-19T12:02:56.369133Z"
    },
    "trusted": true
   },
   "outputs": [
    {
     "data": {
      "text/plain": [
       "vacancy_name                     0\n",
       "code_professional_sphere         0\n",
       "busy_type                        0\n",
       "education_requirements           0\n",
       "hard_skills                 149608\n",
       "soft_skills                 160262\n",
       "schedule_type                    0\n",
       "company_business_size            0\n",
       "region_name                   1803\n",
       "qualifications               18888\n",
       "responsibilities              1011\n",
       "dtype: int64"
      ]
     },
     "execution_count": 16,
     "metadata": {},
     "output_type": "execute_result"
    }
   ],
   "source": [
    "# проверка пропусков в тестовой выборке\n",
    "test.isna().sum()"
   ]
  },
  {
   "cell_type": "code",
   "execution_count": 17,
   "metadata": {
    "execution": {
     "iopub.execute_input": "2025-02-19T12:02:56.488673Z",
     "iopub.status.busy": "2025-02-19T12:02:56.488274Z",
     "iopub.status.idle": "2025-02-19T12:02:57.302947Z",
     "shell.execute_reply": "2025-02-19T12:02:57.301983Z",
     "shell.execute_reply.started": "2025-02-19T12:02:56.488634Z"
    },
    "trusted": true
   },
   "outputs": [],
   "source": [
    "# устранение пропусков в тренировочной и тестовой выборках\n",
    "train.fillna('empty', inplace=True)\n",
    "test.fillna('empty', inplace=True)"
   ]
  },
  {
   "cell_type": "markdown",
   "metadata": {},
   "source": [
    "Тренировочная выборка:\n",
    "- нет полных дубликатов\n",
    "- пропуск в vacancy_name заполнен по смыслу описания вакансии\n",
    "- пропуски hard_skills, soft_skills, region_name, qualifications, responsibilities заполнили значением 'empty'\n",
    "\n",
    "Тестовая выборка:\n",
    "- пропуски hard_skills, soft_skills, region_name, qualifications, responsibilities заполнили значением 'empty'"
   ]
  },
  {
   "cell_type": "code",
   "execution_count": 18,
   "metadata": {
    "execution": {
     "iopub.execute_input": "2025-02-19T12:02:57.304802Z",
     "iopub.status.busy": "2025-02-19T12:02:57.304378Z",
     "iopub.status.idle": "2025-02-19T12:03:05.018605Z",
     "shell.execute_reply": "2025-02-19T12:03:05.017319Z",
     "shell.execute_reply.started": "2025-02-19T12:02:57.304750Z"
    },
    "trusted": true
   },
   "outputs": [
    {
     "name": "stdout",
     "output_type": "stream",
     "text": [
      "interval columns not set, guessing: ['salary']\n"
     ]
    },
    {
     "data": {
      "image/png": "[encoded data removed]",
      "text/plain": [
       "<Figure size 600x600 with 2 Axes>"
      ]
     },
     "metadata": {},
     "output_type": "display_data"
    }
   ],
   "source": [
    "# корреляционный анализ\n",
    "phik_overview = train[['region_name', \n",
    "                       'company_business_size', \n",
    "                       'schedule_type', \n",
    "                       'busy_type', \n",
    "                       'code_professional_sphere', \n",
    "                       'salary']].phik_matrix()\n",
    "\n",
    "plot_correlation_matrix(\n",
    "    phik_overview.values,\n",
    "    x_labels=phik_overview.columns,\n",
    "    y_labels=phik_overview.index,\n",
    "    figsize=(6, 6)\n",
    ")"
   ]
  },
  {
   "cell_type": "markdown",
   "metadata": {},
   "source": [
    "Сильнее всего на зарплату влияет регион, тип расписания, код профессиональной сферы"
   ]
  },
  {
   "cell_type": "markdown",
   "metadata": {},
   "source": [
    "## 3. Подготовка данных"
   ]
  },
  {
   "cell_type": "code",
   "execution_count": 19,
   "metadata": {
    "execution": {
     "iopub.execute_input": "2025-02-19T12:03:05.020528Z",
     "iopub.status.busy": "2025-02-19T12:03:05.020088Z",
     "iopub.status.idle": "2025-02-19T12:03:06.109170Z",
     "shell.execute_reply": "2025-02-19T12:03:06.107962Z",
     "shell.execute_reply.started": "2025-02-19T12:03:05.020484Z"
    },
    "trusted": true
   },
   "outputs": [],
   "source": [
    "# содание тренировочной и валидационной выборки\n",
    "X_train, X_val, y_train, y_val = train_test_split(\n",
    "    train.drop(['salary'], axis=1),\n",
    "    train['salary'],\n",
    "    test_size = TEST_SIZE, \n",
    "    random_state = RANDOM_STATE\n",
    ")"
   ]
  },
  {
   "cell_type": "markdown",
   "metadata": {},
   "source": [
    "Обработка признаков:\n",
    "\n",
    "- vacancy_name - NLP обработка\n",
    "- code_professional_sphere - catboost\n",
    "- busy_type - catboost\n",
    "- education_requirements - catboost\n",
    "- hard_skills - NLP обработка\n",
    "- soft_skills - NLP обработка\n",
    "- schedule_type - catboost\n",
    "- company_business_size - catboost\n",
    "- region_name - catboost\n",
    "- qualifications - NLP обработка\n",
    "- responsibilities - NLP обработка"
   ]
  },
  {
   "cell_type": "code",
   "execution_count": 20,
   "metadata": {
    "execution": {
     "iopub.execute_input": "2025-02-19T12:03:06.113327Z",
     "iopub.status.busy": "2025-02-19T12:03:06.112964Z",
     "iopub.status.idle": "2025-02-19T12:03:07.325054Z",
     "shell.execute_reply": "2025-02-19T12:03:07.323795Z",
     "shell.execute_reply.started": "2025-02-19T12:03:06.113295Z"
    },
    "trusted": true
   },
   "outputs": [],
   "source": [
    "# создание признаков catboost\n",
    "cb_columns = ['code_professional_sphere', \n",
    "                'busy_type', \n",
    "                'education_requirements', \n",
    "                'schedule_type', \n",
    "                'company_business_size', \n",
    "                'region_name']\n",
    "\n",
    "# инициализация энкодера\n",
    "cb_encoder = CatBoostEncoder(cols=cb_columns)\n",
    "cb_encoder.fit(X_train[cb_columns], y_train)\n",
    "\n",
    "# преобразование признаков\n",
    "X_train_cb = cb_encoder.transform(X_train[cb_columns]).add_suffix('_cb')\n",
    "X_val_cb = cb_encoder.transform(X_val[cb_columns]).add_suffix('_cb')"
   ]
  },
  {
   "cell_type": "code",
   "execution_count": 21,
   "metadata": {
    "execution": {
     "iopub.execute_input": "2025-02-19T12:03:07.326845Z",
     "iopub.status.busy": "2025-02-19T12:03:07.326436Z",
     "iopub.status.idle": "2025-02-19T12:03:07.712103Z",
     "shell.execute_reply": "2025-02-19T12:03:07.711056Z",
     "shell.execute_reply.started": "2025-02-19T12:03:07.326806Z"
    },
    "trusted": true
   },
   "outputs": [],
   "source": [
    "# создание признаков NLP\n",
    "nlp_columns = ['vacancy_name', \n",
    "               'hard_skills', \n",
    "               'soft_skills', \n",
    "               'qualifications', \n",
    "               'responsibilities']\n",
    "\n",
    "train_nlp = X_train[nlp_columns]\n",
    "val_nlp = X_val[nlp_columns]"
   ]
  },
  {
   "cell_type": "code",
   "execution_count": 22,
   "metadata": {
    "execution": {
     "iopub.execute_input": "2025-02-19T12:03:07.713424Z",
     "iopub.status.busy": "2025-02-19T12:03:07.713157Z",
     "iopub.status.idle": "2025-02-19T12:03:07.856621Z",
     "shell.execute_reply": "2025-02-19T12:03:07.855606Z",
     "shell.execute_reply.started": "2025-02-19T12:03:07.713400Z"
    },
    "trusted": true
   },
   "outputs": [
    {
     "name": "stderr",
     "output_type": "stream",
     "text": [
      "[nltk_data] Downloading package omw-1.4 to\n",
      "[nltk_data]     C:\\Users\\andro\\AppData\\Roaming\\nltk_data...\n",
      "[nltk_data]   Package omw-1.4 is already up-to-date!\n",
      "[nltk_data] Downloading package stopwords to\n",
      "[nltk_data]     C:\\Users\\andro\\AppData\\Roaming\\nltk_data...\n",
      "[nltk_data]   Package stopwords is already up-to-date!\n",
      "[nltk_data] Downloading package punkt_tab to\n",
      "[nltk_data]     C:\\Users\\andro\\AppData\\Roaming\\nltk_data...\n",
      "[nltk_data]   Package punkt_tab is already up-to-date!\n"
     ]
    }
   ],
   "source": [
    "# загрузка данных nltk для работы лемматизатора\n",
    "nltk.download('omw-1.4')\n",
    "nltk.download('stopwords')\n",
    "nltk.download('punkt_tab')\n",
    "\n",
    "stemmer = SnowballStemmer(\"russian\")\n",
    "stop_words = set(stopwords.words('russian'))"
   ]
  },
  {
   "cell_type": "code",
   "execution_count": 23,
   "metadata": {
    "execution": {
     "iopub.execute_input": "2025-02-19T12:03:07.858081Z",
     "iopub.status.busy": "2025-02-19T12:03:07.857747Z",
     "iopub.status.idle": "2025-02-19T12:03:07.864215Z",
     "shell.execute_reply": "2025-02-19T12:03:07.862974Z",
     "shell.execute_reply.started": "2025-02-19T12:03:07.858048Z"
    },
    "trusted": true
   },
   "outputs": [],
   "source": [
    "# функция для лемматизации текста\n",
    "def lemmatize(text):\n",
    "    '''Функция принимает на вход строку, возвращает лемматизированную строку'''\n",
    "    \n",
    "    # очистка от символов\n",
    "    ru_text = re.sub(r'[^0-9а-яА-ЯёЁ ]', ' ', text)\n",
    "    no_gap_text = ru_text.split()\n",
    "    clean_text = \" \".join(no_gap_text)\n",
    "    \n",
    "    # очистка от стоп слов\n",
    "    filtered_text = ' '.join([word for word in word_tokenize(clean_text) if not word in stop_words])\n",
    "    \n",
    "    # инициализация стеммера\n",
    "    tokens = word_tokenize(filtered_text)\n",
    "    lemmatized = ' '.join([stemmer.stem(word) for word in tokens])\n",
    "    \n",
    "    return lemmatized"
   ]
  },
  {
   "cell_type": "markdown",
   "metadata": {},
   "source": [
    "### Лемматизация тренировочной выборки"
   ]
  },
  {
   "cell_type": "code",
   "execution_count": 24,
   "metadata": {
    "execution": {
     "iopub.execute_input": "2025-02-19T12:03:07.865997Z",
     "iopub.status.busy": "2025-02-19T12:03:07.865558Z",
     "iopub.status.idle": "2025-02-19T12:04:44.488604Z",
     "shell.execute_reply": "2025-02-19T12:04:44.487460Z",
     "shell.execute_reply.started": "2025-02-19T12:03:07.865951Z"
    },
    "trusted": true
   },
   "outputs": [
    {
     "name": "stdout",
     "output_type": "stream",
     "text": [
      "CPU times: total: 56.1 s\n",
      "Wall time: 56.4 s\n"
     ]
    },
    {
     "name": "stderr",
     "output_type": "stream",
     "text": [
      "<timed exec>:2: SettingWithCopyWarning: \n",
      "A value is trying to be set on a copy of a slice from a DataFrame.\n",
      "Try using .loc[row_indexer,col_indexer] = value instead\n",
      "\n",
      "See the caveats in the documentation: https://pandas.pydata.org/pandas-docs/stable/user_guide/indexing.html#returning-a-view-versus-a-copy\n"
     ]
    }
   ],
   "source": [
    "%%time\n",
    "# лемматизация тренировочной выборки\n",
    "train_nlp.loc[:, 'vacancy_name_l'] = train_nlp.loc[:, 'vacancy_name'].apply(lemmatize)"
   ]
  },
  {
   "cell_type": "code",
   "execution_count": 25,
   "metadata": {
    "execution": {
     "iopub.execute_input": "2025-02-19T12:04:44.490223Z",
     "iopub.status.busy": "2025-02-19T12:04:44.489936Z",
     "iopub.status.idle": "2025-02-19T12:05:06.256008Z",
     "shell.execute_reply": "2025-02-19T12:05:06.254689Z",
     "shell.execute_reply.started": "2025-02-19T12:04:44.490198Z"
    },
    "trusted": true
   },
   "outputs": [
    {
     "name": "stdout",
     "output_type": "stream",
     "text": [
      "CPU times: total: 10.3 s\n",
      "Wall time: 10.3 s\n"
     ]
    },
    {
     "name": "stderr",
     "output_type": "stream",
     "text": [
      "<timed exec>:1: SettingWithCopyWarning: \n",
      "A value is trying to be set on a copy of a slice from a DataFrame.\n",
      "Try using .loc[row_indexer,col_indexer] = value instead\n",
      "\n",
      "See the caveats in the documentation: https://pandas.pydata.org/pandas-docs/stable/user_guide/indexing.html#returning-a-view-versus-a-copy\n"
     ]
    }
   ],
   "source": [
    "%%time\n",
    "train_nlp.loc[:, 'hard_skills_l'] = train_nlp.loc[:, 'hard_skills'].apply(lemmatize)"
   ]
  },
  {
   "cell_type": "code",
   "execution_count": 26,
   "metadata": {
    "execution": {
     "iopub.execute_input": "2025-02-19T12:05:06.257573Z",
     "iopub.status.busy": "2025-02-19T12:05:06.257210Z",
     "iopub.status.idle": "2025-02-19T12:05:17.763809Z",
     "shell.execute_reply": "2025-02-19T12:05:17.762598Z",
     "shell.execute_reply.started": "2025-02-19T12:05:06.257537Z"
    },
    "trusted": true
   },
   "outputs": [
    {
     "name": "stdout",
     "output_type": "stream",
     "text": [
      "CPU times: total: 3.39 s\n",
      "Wall time: 3.38 s\n"
     ]
    },
    {
     "name": "stderr",
     "output_type": "stream",
     "text": [
      "<timed exec>:1: SettingWithCopyWarning: \n",
      "A value is trying to be set on a copy of a slice from a DataFrame.\n",
      "Try using .loc[row_indexer,col_indexer] = value instead\n",
      "\n",
      "See the caveats in the documentation: https://pandas.pydata.org/pandas-docs/stable/user_guide/indexing.html#returning-a-view-versus-a-copy\n"
     ]
    }
   ],
   "source": [
    "%%time\n",
    "train_nlp.loc[:, 'soft_skills_l'] = train_nlp.loc[:, 'soft_skills'].apply(lemmatize)"
   ]
  },
  {
   "cell_type": "code",
   "execution_count": 27,
   "metadata": {
    "execution": {
     "iopub.execute_input": "2025-02-19T12:05:17.765767Z",
     "iopub.status.busy": "2025-02-19T12:05:17.765409Z"
    },
    "trusted": true
   },
   "outputs": [
    {
     "name": "stdout",
     "output_type": "stream",
     "text": [
      "CPU times: total: 3min 18s\n",
      "Wall time: 3min 19s\n"
     ]
    },
    {
     "name": "stderr",
     "output_type": "stream",
     "text": [
      "<timed exec>:1: SettingWithCopyWarning: \n",
      "A value is trying to be set on a copy of a slice from a DataFrame.\n",
      "Try using .loc[row_indexer,col_indexer] = value instead\n",
      "\n",
      "See the caveats in the documentation: https://pandas.pydata.org/pandas-docs/stable/user_guide/indexing.html#returning-a-view-versus-a-copy\n"
     ]
    }
   ],
   "source": [
    "%%time\n",
    "train_nlp.loc[:, 'qualifications_l'] = train_nlp.loc[:, 'qualifications'].apply(lemmatize)"
   ]
  },
  {
   "cell_type": "code",
   "execution_count": 28,
   "metadata": {
    "trusted": true
   },
   "outputs": [
    {
     "name": "stdout",
     "output_type": "stream",
     "text": [
      "CPU times: total: 8min 53s\n",
      "Wall time: 8min 55s\n"
     ]
    },
    {
     "name": "stderr",
     "output_type": "stream",
     "text": [
      "<timed exec>:1: SettingWithCopyWarning: \n",
      "A value is trying to be set on a copy of a slice from a DataFrame.\n",
      "Try using .loc[row_indexer,col_indexer] = value instead\n",
      "\n",
      "See the caveats in the documentation: https://pandas.pydata.org/pandas-docs/stable/user_guide/indexing.html#returning-a-view-versus-a-copy\n"
     ]
    }
   ],
   "source": [
    "%%time\n",
    "train_nlp.loc[:, 'responsibilities_l'] = train_nlp.loc[:, 'responsibilities'].apply(lemmatize)"
   ]
  },
  {
   "cell_type": "markdown",
   "metadata": {},
   "source": [
    "### Лемматизация валидационной выборки"
   ]
  },
  {
   "cell_type": "code",
   "execution_count": 29,
   "metadata": {
    "trusted": true
   },
   "outputs": [
    {
     "name": "stdout",
     "output_type": "stream",
     "text": [
      "CPU times: total: 19.5 s\n",
      "Wall time: 19.6 s\n"
     ]
    },
    {
     "name": "stderr",
     "output_type": "stream",
     "text": [
      "<timed exec>:2: SettingWithCopyWarning: \n",
      "A value is trying to be set on a copy of a slice from a DataFrame.\n",
      "Try using .loc[row_indexer,col_indexer] = value instead\n",
      "\n",
      "See the caveats in the documentation: https://pandas.pydata.org/pandas-docs/stable/user_guide/indexing.html#returning-a-view-versus-a-copy\n"
     ]
    }
   ],
   "source": [
    "%%time\n",
    "# лемматизация валидационной выборки\n",
    "val_nlp.loc[:, 'vacancy_name_l'] = val_nlp.loc[:, 'vacancy_name'].apply(lemmatize)"
   ]
  },
  {
   "cell_type": "code",
   "execution_count": 30,
   "metadata": {
    "trusted": true
   },
   "outputs": [
    {
     "name": "stdout",
     "output_type": "stream",
     "text": [
      "CPU times: total: 3.58 s\n",
      "Wall time: 3.59 s\n"
     ]
    },
    {
     "name": "stderr",
     "output_type": "stream",
     "text": [
      "<timed exec>:1: SettingWithCopyWarning: \n",
      "A value is trying to be set on a copy of a slice from a DataFrame.\n",
      "Try using .loc[row_indexer,col_indexer] = value instead\n",
      "\n",
      "See the caveats in the documentation: https://pandas.pydata.org/pandas-docs/stable/user_guide/indexing.html#returning-a-view-versus-a-copy\n"
     ]
    }
   ],
   "source": [
    "%%time\n",
    "val_nlp.loc[:, 'hard_skills_l'] = val_nlp.loc[:, 'hard_skills'].apply(lemmatize)"
   ]
  },
  {
   "cell_type": "code",
   "execution_count": 31,
   "metadata": {
    "trusted": true
   },
   "outputs": [
    {
     "name": "stdout",
     "output_type": "stream",
     "text": [
      "CPU times: total: 1.2 s\n",
      "Wall time: 1.21 s\n"
     ]
    },
    {
     "name": "stderr",
     "output_type": "stream",
     "text": [
      "<timed exec>:1: SettingWithCopyWarning: \n",
      "A value is trying to be set on a copy of a slice from a DataFrame.\n",
      "Try using .loc[row_indexer,col_indexer] = value instead\n",
      "\n",
      "See the caveats in the documentation: https://pandas.pydata.org/pandas-docs/stable/user_guide/indexing.html#returning-a-view-versus-a-copy\n"
     ]
    }
   ],
   "source": [
    "%%time\n",
    "val_nlp.loc[:, 'soft_skills_l'] = val_nlp.loc[:, 'soft_skills'].apply(lemmatize)"
   ]
  },
  {
   "cell_type": "code",
   "execution_count": 32,
   "metadata": {
    "trusted": true
   },
   "outputs": [
    {
     "name": "stdout",
     "output_type": "stream",
     "text": [
      "CPU times: total: 1min 11s\n",
      "Wall time: 1min 11s\n"
     ]
    },
    {
     "name": "stderr",
     "output_type": "stream",
     "text": [
      "<timed exec>:1: SettingWithCopyWarning: \n",
      "A value is trying to be set on a copy of a slice from a DataFrame.\n",
      "Try using .loc[row_indexer,col_indexer] = value instead\n",
      "\n",
      "See the caveats in the documentation: https://pandas.pydata.org/pandas-docs/stable/user_guide/indexing.html#returning-a-view-versus-a-copy\n"
     ]
    }
   ],
   "source": [
    "%%time\n",
    "val_nlp.loc[:, 'qualifications_l'] = val_nlp.loc[:, 'qualifications'].apply(lemmatize)"
   ]
  },
  {
   "cell_type": "code",
   "execution_count": 33,
   "metadata": {
    "trusted": true
   },
   "outputs": [
    {
     "name": "stdout",
     "output_type": "stream",
     "text": [
      "CPU times: total: 3min 3s\n",
      "Wall time: 3min 5s\n"
     ]
    },
    {
     "name": "stderr",
     "output_type": "stream",
     "text": [
      "<timed exec>:1: SettingWithCopyWarning: \n",
      "A value is trying to be set on a copy of a slice from a DataFrame.\n",
      "Try using .loc[row_indexer,col_indexer] = value instead\n",
      "\n",
      "See the caveats in the documentation: https://pandas.pydata.org/pandas-docs/stable/user_guide/indexing.html#returning-a-view-versus-a-copy\n"
     ]
    }
   ],
   "source": [
    "%%time\n",
    "val_nlp.loc[:, 'responsibilities_l'] = val_nlp.loc[:, 'responsibilities'].apply(lemmatize)"
   ]
  },
  {
   "cell_type": "code",
   "execution_count": 34,
   "metadata": {
    "trusted": true
   },
   "outputs": [],
   "source": [
    "# сохранение лемматизированных данных\n",
    "# train_nlp.to_csv('train_nlp.csv')\n",
    "# val_nlp.to_csv('val_nlp.csv')"
   ]
  },
  {
   "cell_type": "code",
   "execution_count": 35,
   "metadata": {
    "trusted": true
   },
   "outputs": [],
   "source": [
    "# загрузка предварительно лемматизированных данных\n",
    "#train_nlp = pd.read_csv('train_nlp.csv')\n",
    "#val_nlp = pd.read_csv('val_nlp.csv')"
   ]
  },
  {
   "cell_type": "code",
   "execution_count": 36,
   "metadata": {
    "trusted": true
   },
   "outputs": [],
   "source": [
    "# удаление необработанных признаков\n",
    "train_nlp = train_nlp.drop(nlp_columns, axis=1)\n",
    "val_nlp = val_nlp.drop(nlp_columns, axis=1)"
   ]
  },
  {
   "cell_type": "markdown",
   "metadata": {},
   "source": [
    "### Векторизация тренировочной выборки"
   ]
  },
  {
   "cell_type": "code",
   "execution_count": 37,
   "metadata": {
    "trusted": true
   },
   "outputs": [],
   "source": [
    "# инициализация экземпляров класса векторизатора\n",
    "vectorizer_vac_nam = TfidfVectorizer()\n",
    "vectorizer_hard = TfidfVectorizer()\n",
    "vectorizer_soft = TfidfVectorizer()\n",
    "vectorizer_qual = TfidfVectorizer()\n",
    "vectorizer_resp = TfidfVectorizer()\n",
    "\n",
    "X_train_tf_idf = pd.DataFrame()"
   ]
  },
  {
   "cell_type": "code",
   "execution_count": 38,
   "metadata": {
    "trusted": true
   },
   "outputs": [
    {
     "name": "stdout",
     "output_type": "stream",
     "text": [
      "CPU times: total: 1.72 s\n",
      "Wall time: 1.78 s\n"
     ]
    }
   ],
   "source": [
    "%%time\n",
    "# преобразование корпуса слов тренировочной выборки\n",
    "vac_nam = train_nlp['vacancy_name_l'].tolist()\n",
    "vac_nam_tf_idf = vectorizer_vac_nam.fit_transform(vac_nam)"
   ]
  },
  {
   "cell_type": "code",
   "execution_count": 39,
   "metadata": {
    "trusted": true
   },
   "outputs": [
    {
     "name": "stdout",
     "output_type": "stream",
     "text": [
      "CPU times: total: 625 ms\n",
      "Wall time: 805 ms\n"
     ]
    }
   ],
   "source": [
    "%%time\n",
    "hard = train_nlp['hard_skills_l'].tolist()\n",
    "hard_tf_idf = vectorizer_hard.fit_transform(hard)"
   ]
  },
  {
   "cell_type": "code",
   "execution_count": 40,
   "metadata": {
    "trusted": true
   },
   "outputs": [
    {
     "name": "stdout",
     "output_type": "stream",
     "text": [
      "CPU times: total: 594 ms\n",
      "Wall time: 727 ms\n"
     ]
    }
   ],
   "source": [
    "%%time\n",
    "soft = train_nlp['soft_skills_l'].tolist()\n",
    "soft_tf_idf = vectorizer_soft.fit_transform(soft)"
   ]
  },
  {
   "cell_type": "code",
   "execution_count": 41,
   "metadata": {
    "trusted": true
   },
   "outputs": [
    {
     "name": "stdout",
     "output_type": "stream",
     "text": [
      "CPU times: total: 5.23 s\n",
      "Wall time: 5.61 s\n"
     ]
    }
   ],
   "source": [
    "%%time\n",
    "qual = train_nlp['qualifications_l'].tolist()\n",
    "qual_tf_idf = vectorizer_qual.fit_transform(qual)"
   ]
  },
  {
   "cell_type": "code",
   "execution_count": 42,
   "metadata": {
    "trusted": true
   },
   "outputs": [
    {
     "name": "stdout",
     "output_type": "stream",
     "text": [
      "CPU times: total: 10.8 s\n",
      "Wall time: 10.8 s\n"
     ]
    }
   ],
   "source": [
    "%%time\n",
    "resp = train_nlp['responsibilities_l'].tolist()\n",
    "resp_tf_idf = vectorizer_resp.fit_transform(resp)"
   ]
  },
  {
   "cell_type": "code",
   "execution_count": 43,
   "metadata": {
    "trusted": true
   },
   "outputs": [],
   "source": [
    "# соединение матриц\n",
    "X_train_tf_idf = hstack([vac_nam_tf_idf, hard_tf_idf, soft_tf_idf, qual_tf_idf, resp_tf_idf])"
   ]
  },
  {
   "cell_type": "code",
   "execution_count": 44,
   "metadata": {
    "trusted": true
   },
   "outputs": [],
   "source": [
    "# сохранение матрицы\n",
    "#save_npz('X_train_tf_idf.npz', X_train_tf_idf, compressed=True)"
   ]
  },
  {
   "cell_type": "markdown",
   "metadata": {},
   "source": [
    "### Векторизация валидационной выборки"
   ]
  },
  {
   "cell_type": "code",
   "execution_count": 45,
   "metadata": {
    "trusted": true
   },
   "outputs": [
    {
     "name": "stdout",
     "output_type": "stream",
     "text": [
      "CPU times: total: 531 ms\n",
      "Wall time: 524 ms\n"
     ]
    }
   ],
   "source": [
    "%%time\n",
    "# преобразование корпуса слов тренировочной выборки\n",
    "vac_nam_val = val_nlp['vacancy_name_l'].tolist()\n",
    "vac_nam_val_tf_idf = vectorizer_vac_nam.transform(vac_nam_val)"
   ]
  },
  {
   "cell_type": "code",
   "execution_count": 46,
   "metadata": {
    "trusted": true
   },
   "outputs": [
    {
     "name": "stdout",
     "output_type": "stream",
     "text": [
      "CPU times: total: 234 ms\n",
      "Wall time: 228 ms\n"
     ]
    }
   ],
   "source": [
    "%%time\n",
    "hard_val = val_nlp['hard_skills_l'].tolist()\n",
    "hard_val_tf_idf = vectorizer_hard.transform(hard_val)"
   ]
  },
  {
   "cell_type": "code",
   "execution_count": 47,
   "metadata": {
    "trusted": true
   },
   "outputs": [
    {
     "name": "stdout",
     "output_type": "stream",
     "text": [
      "CPU times: total: 203 ms\n",
      "Wall time: 219 ms\n"
     ]
    }
   ],
   "source": [
    "%%time\n",
    "soft_val = val_nlp['soft_skills_l'].tolist()\n",
    "soft_val_tf_idf = vectorizer_soft.transform(soft_val)"
   ]
  },
  {
   "cell_type": "code",
   "execution_count": 48,
   "metadata": {
    "trusted": true
   },
   "outputs": [
    {
     "name": "stdout",
     "output_type": "stream",
     "text": [
      "CPU times: total: 1.45 s\n",
      "Wall time: 1.45 s\n"
     ]
    }
   ],
   "source": [
    "%%time\n",
    "qual_val = val_nlp['qualifications_l'].tolist()\n",
    "qual_val_tf_idf = vectorizer_qual.transform(qual_val)"
   ]
  },
  {
   "cell_type": "code",
   "execution_count": 49,
   "metadata": {
    "trusted": true
   },
   "outputs": [
    {
     "name": "stdout",
     "output_type": "stream",
     "text": [
      "CPU times: total: 3.89 s\n",
      "Wall time: 3.99 s\n"
     ]
    }
   ],
   "source": [
    "%%time\n",
    "resp_val = val_nlp['responsibilities_l'].tolist()\n",
    "resp_val_tf_idf = vectorizer_resp.transform(resp_val)"
   ]
  },
  {
   "cell_type": "code",
   "execution_count": 50,
   "metadata": {
    "trusted": true
   },
   "outputs": [],
   "source": [
    "# соединение матриц\n",
    "X_val_tf_idf = hstack([vac_nam_val_tf_idf, hard_val_tf_idf, soft_val_tf_idf, qual_val_tf_idf, resp_val_tf_idf])"
   ]
  },
  {
   "cell_type": "code",
   "execution_count": 51,
   "metadata": {
    "trusted": true
   },
   "outputs": [],
   "source": [
    "# сохранение матрицы\n",
    "#save_npz('X_val_tf_idf.npz', X_val_tf_idf, compressed=True)"
   ]
  },
  {
   "cell_type": "markdown",
   "metadata": {},
   "source": [
    "### Добавление признаков catboost"
   ]
  },
  {
   "cell_type": "code",
   "execution_count": 52,
   "metadata": {
    "trusted": true
   },
   "outputs": [],
   "source": [
    "# добавление catboost признаков\n",
    "X_train_cb_matrix = csr_matrix(X_train_cb.values)\n",
    "X_val_cb_matrix = csr_matrix(X_val_cb.values)\n",
    "\n",
    "X_train_sum = hstack([X_train_tf_idf, X_train_cb_matrix])\n",
    "X_val_sum = hstack([X_val_tf_idf, X_val_cb_matrix])"
   ]
  },
  {
   "cell_type": "markdown",
   "metadata": {},
   "source": [
    "## 4. Обучение моделей"
   ]
  },
  {
   "cell_type": "code",
   "execution_count": 53,
   "metadata": {
    "trusted": true
   },
   "outputs": [],
   "source": [
    "# пайплайн обучения\n",
    "pipe_final = Pipeline([\n",
    "    ('models', LinearRegression())\n",
    "])"
   ]
  },
  {
   "cell_type": "code",
   "execution_count": 76,
   "metadata": {
    "trusted": true
   },
   "outputs": [],
   "source": [
    "# задание параметров для пайплайна\n",
    "param_grid = [\n",
    "    # словарь для модели LinearRegression()\n",
    "    {\n",
    "        'models': [LinearRegression()]\n",
    "    },\n",
    "    \n",
    "    # словарь для модели DecisionTreeRegressor()\n",
    "    {\n",
    "        'models': [DecisionTreeRegressor(random_state=RANDOM_STATE)],\n",
    "        'models__max_depth': range(4, 5)\n",
    "    },\n",
    "\n",
    "    # словарь для модели LightGBM()\n",
    "    {\n",
    "        'models': [LGBMRegressor(n_jobs=-1, random_state=RANDOM_STATE)],\n",
    "        'models__max_depth': [7, 8],\n",
    "        'models__learning_rate': [0.1, 1.0]\n",
    "    }    \n",
    "]"
   ]
  },
  {
   "cell_type": "code",
   "execution_count": 77,
   "metadata": {
    "trusted": true
   },
   "outputs": [],
   "source": [
    "# инициализация подбора параметров\n",
    "grid_search = GridSearchCV(\n",
    "    pipe_final, \n",
    "    param_grid, \n",
    "    cv=5,\n",
    "    scoring='neg_root_mean_squared_error',\n",
    "    n_jobs=-1,\n",
    "    verbose=1\n",
    ")"
   ]
  },
  {
   "cell_type": "code",
   "execution_count": 78,
   "metadata": {
    "trusted": true
   },
   "outputs": [
    {
     "name": "stdout",
     "output_type": "stream",
     "text": [
      "Fitting 5 folds for each of 6 candidates, totalling 30 fits\n",
      "[LightGBM] [Info] Auto-choosing row-wise multi-threading, the overhead of testing was 20.373543 seconds.\n",
      "You can set `force_row_wise=true` to remove the overhead.\n",
      "And if memory is not enough, you can set `force_col_wise=true`.\n",
      "[LightGBM] [Info] Total Bins 1046091\n",
      "[LightGBM] [Info] Number of data points in the train set: 286567, number of used features: 19728\n",
      "[LightGBM] [Info] Start training from score 43427.416227\n",
      "[LightGBM] [Warning] No further splits with positive gain, best gain: -inf\n",
      "[LightGBM] [Warning] No further splits with positive gain, best gain: -inf\n",
      "[LightGBM] [Warning] No further splits with positive gain, best gain: -inf\n",
      "Лучшая модель и её параметры:\n",
      "\n",
      " Pipeline(steps=[('models',\n",
      "                 LGBMRegressor(max_depth=8, n_jobs=-1, random_state=42))])\n",
      "Метрика лучшей модели на тренировочной выборке: -17988.241832454907\n",
      "CPU times: total: 7min 59s\n",
      "Wall time: 21min 7s\n"
     ]
    }
   ],
   "source": [
    "%%time\n",
    "# запуск подбора параметров\n",
    "grid_search.fit(X_train_sum, y_train)\n",
    "\n",
    "print('Лучшая модель и её параметры:\\n\\n', grid_search.best_estimator_)\n",
    "print ('Метрика лучшей модели на тренировочной выборке:', grid_search.best_score_)"
   ]
  },
  {
   "cell_type": "code",
   "execution_count": 79,
   "metadata": {
    "trusted": true
   },
   "outputs": [
    {
     "data": {
      "text/html": [
       "<div>\n",
       "<style scoped>\n",
       "    .dataframe tbody tr th:only-of-type {\n",
       "        vertical-align: middle;\n",
       "    }\n",
       "\n",
       "    .dataframe tbody tr th {\n",
       "        vertical-align: top;\n",
       "    }\n",
       "\n",
       "    .dataframe thead th {\n",
       "        text-align: right;\n",
       "    }\n",
       "</style>\n",
       "<table border=\"1\" class=\"dataframe\">\n",
       "  <thead>\n",
       "    <tr style=\"text-align: right;\">\n",
       "      <th></th>\n",
       "      <th>mean_fit_time</th>\n",
       "      <th>std_fit_time</th>\n",
       "      <th>mean_score_time</th>\n",
       "      <th>std_score_time</th>\n",
       "      <th>param_models</th>\n",
       "      <th>param_models__max_depth</th>\n",
       "      <th>param_models__learning_rate</th>\n",
       "      <th>params</th>\n",
       "      <th>split0_test_score</th>\n",
       "      <th>split1_test_score</th>\n",
       "      <th>split2_test_score</th>\n",
       "      <th>split3_test_score</th>\n",
       "      <th>split4_test_score</th>\n",
       "      <th>mean_test_score</th>\n",
       "      <th>std_test_score</th>\n",
       "      <th>rank_test_score</th>\n",
       "    </tr>\n",
       "  </thead>\n",
       "  <tbody>\n",
       "    <tr>\n",
       "      <th>3</th>\n",
       "      <td>499.766634</td>\n",
       "      <td>14.284865</td>\n",
       "      <td>1.468426</td>\n",
       "      <td>0.264638</td>\n",
       "      <td>LGBMRegressor(n_jobs=-1, random_state=42)</td>\n",
       "      <td>8.0</td>\n",
       "      <td>0.1</td>\n",
       "      <td>{'models': LGBMRegressor(n_jobs=-1, random_sta...</td>\n",
       "      <td>-18094.166389</td>\n",
       "      <td>-17878.602756</td>\n",
       "      <td>-17945.111789</td>\n",
       "      <td>-18292.971583</td>\n",
       "      <td>-17730.356645</td>\n",
       "      <td>-17988.241832</td>\n",
       "      <td>192.075990</td>\n",
       "      <td>1</td>\n",
       "    </tr>\n",
       "    <tr>\n",
       "      <th>2</th>\n",
       "      <td>395.458260</td>\n",
       "      <td>46.527730</td>\n",
       "      <td>1.151859</td>\n",
       "      <td>0.137108</td>\n",
       "      <td>LGBMRegressor(n_jobs=-1, random_state=42)</td>\n",
       "      <td>7.0</td>\n",
       "      <td>0.1</td>\n",
       "      <td>{'models': LGBMRegressor(n_jobs=-1, random_sta...</td>\n",
       "      <td>-18171.841791</td>\n",
       "      <td>-17998.311881</td>\n",
       "      <td>-18046.502318</td>\n",
       "      <td>-18377.533476</td>\n",
       "      <td>-17813.725525</td>\n",
       "      <td>-18081.582998</td>\n",
       "      <td>187.427689</td>\n",
       "      <td>2</td>\n",
       "    </tr>\n",
       "    <tr>\n",
       "      <th>4</th>\n",
       "      <td>406.934024</td>\n",
       "      <td>32.791038</td>\n",
       "      <td>1.164225</td>\n",
       "      <td>0.089198</td>\n",
       "      <td>LGBMRegressor(n_jobs=-1, random_state=42)</td>\n",
       "      <td>7.0</td>\n",
       "      <td>1.0</td>\n",
       "      <td>{'models': LGBMRegressor(n_jobs=-1, random_sta...</td>\n",
       "      <td>-18531.244950</td>\n",
       "      <td>-18214.377229</td>\n",
       "      <td>-18221.859717</td>\n",
       "      <td>-18715.514630</td>\n",
       "      <td>-18117.274538</td>\n",
       "      <td>-18360.054213</td>\n",
       "      <td>225.796302</td>\n",
       "      <td>3</td>\n",
       "    </tr>\n",
       "    <tr>\n",
       "      <th>5</th>\n",
       "      <td>315.248803</td>\n",
       "      <td>54.837357</td>\n",
       "      <td>0.962300</td>\n",
       "      <td>0.183350</td>\n",
       "      <td>LGBMRegressor(n_jobs=-1, random_state=42)</td>\n",
       "      <td>8.0</td>\n",
       "      <td>1.0</td>\n",
       "      <td>{'models': LGBMRegressor(n_jobs=-1, random_sta...</td>\n",
       "      <td>-18462.379756</td>\n",
       "      <td>-18421.067076</td>\n",
       "      <td>-18281.247377</td>\n",
       "      <td>-18684.646186</td>\n",
       "      <td>-18352.130608</td>\n",
       "      <td>-18440.294201</td>\n",
       "      <td>136.845941</td>\n",
       "      <td>4</td>\n",
       "    </tr>\n",
       "    <tr>\n",
       "      <th>0</th>\n",
       "      <td>6.169516</td>\n",
       "      <td>0.552687</td>\n",
       "      <td>0.049271</td>\n",
       "      <td>0.011668</td>\n",
       "      <td>LinearRegression()</td>\n",
       "      <td>NaN</td>\n",
       "      <td>NaN</td>\n",
       "      <td>{'models': LinearRegression()}</td>\n",
       "      <td>-20425.416109</td>\n",
       "      <td>-20196.349601</td>\n",
       "      <td>-20238.858471</td>\n",
       "      <td>-20149.538772</td>\n",
       "      <td>-20147.746297</td>\n",
       "      <td>-20231.581850</td>\n",
       "      <td>102.591859</td>\n",
       "      <td>5</td>\n",
       "    </tr>\n",
       "    <tr>\n",
       "      <th>1</th>\n",
       "      <td>97.885456</td>\n",
       "      <td>4.016589</td>\n",
       "      <td>0.194343</td>\n",
       "      <td>0.056330</td>\n",
       "      <td>DecisionTreeRegressor(random_state=42)</td>\n",
       "      <td>4.0</td>\n",
       "      <td>NaN</td>\n",
       "      <td>{'models': DecisionTreeRegressor(random_state=...</td>\n",
       "      <td>-22893.468450</td>\n",
       "      <td>-22586.770397</td>\n",
       "      <td>-22610.975585</td>\n",
       "      <td>-23190.625788</td>\n",
       "      <td>-22631.569717</td>\n",
       "      <td>-22782.681987</td>\n",
       "      <td>232.116843</td>\n",
       "      <td>6</td>\n",
       "    </tr>\n",
       "  </tbody>\n",
       "</table>\n",
       "</div>"
      ],
      "text/plain": [
       "   mean_fit_time  std_fit_time  mean_score_time  std_score_time  \\\n",
       "3     499.766634     14.284865         1.468426        0.264638   \n",
       "2     395.458260     46.527730         1.151859        0.137108   \n",
       "4     406.934024     32.791038         1.164225        0.089198   \n",
       "5     315.248803     54.837357         0.962300        0.183350   \n",
       "0       6.169516      0.552687         0.049271        0.011668   \n",
       "1      97.885456      4.016589         0.194343        0.056330   \n",
       "\n",
       "                                param_models  param_models__max_depth  \\\n",
       "3  LGBMRegressor(n_jobs=-1, random_state=42)                      8.0   \n",
       "2  LGBMRegressor(n_jobs=-1, random_state=42)                      7.0   \n",
       "4  LGBMRegressor(n_jobs=-1, random_state=42)                      7.0   \n",
       "5  LGBMRegressor(n_jobs=-1, random_state=42)                      8.0   \n",
       "0                         LinearRegression()                      NaN   \n",
       "1     DecisionTreeRegressor(random_state=42)                      4.0   \n",
       "\n",
       "   param_models__learning_rate  \\\n",
       "3                          0.1   \n",
       "2                          0.1   \n",
       "4                          1.0   \n",
       "5                          1.0   \n",
       "0                          NaN   \n",
       "1                          NaN   \n",
       "\n",
       "                                              params  split0_test_score  \\\n",
       "3  {'models': LGBMRegressor(n_jobs=-1, random_sta...      -18094.166389   \n",
       "2  {'models': LGBMRegressor(n_jobs=-1, random_sta...      -18171.841791   \n",
       "4  {'models': LGBMRegressor(n_jobs=-1, random_sta...      -18531.244950   \n",
       "5  {'models': LGBMRegressor(n_jobs=-1, random_sta...      -18462.379756   \n",
       "0                     {'models': LinearRegression()}      -20425.416109   \n",
       "1  {'models': DecisionTreeRegressor(random_state=...      -22893.468450   \n",
       "\n",
       "   split1_test_score  split2_test_score  split3_test_score  split4_test_score  \\\n",
       "3      -17878.602756      -17945.111789      -18292.971583      -17730.356645   \n",
       "2      -17998.311881      -18046.502318      -18377.533476      -17813.725525   \n",
       "4      -18214.377229      -18221.859717      -18715.514630      -18117.274538   \n",
       "5      -18421.067076      -18281.247377      -18684.646186      -18352.130608   \n",
       "0      -20196.349601      -20238.858471      -20149.538772      -20147.746297   \n",
       "1      -22586.770397      -22610.975585      -23190.625788      -22631.569717   \n",
       "\n",
       "   mean_test_score  std_test_score  rank_test_score  \n",
       "3    -17988.241832      192.075990                1  \n",
       "2    -18081.582998      187.427689                2  \n",
       "4    -18360.054213      225.796302                3  \n",
       "5    -18440.294201      136.845941                4  \n",
       "0    -20231.581850      102.591859                5  \n",
       "1    -22782.681987      232.116843                6  "
      ]
     },
     "execution_count": 79,
     "metadata": {},
     "output_type": "execute_result"
    }
   ],
   "source": [
    "# получение результатов лучших моделей\n",
    "results = pd.DataFrame(grid_search.cv_results_)\n",
    "results.sort_values(by='rank_test_score', inplace=True)\n",
    "results.head(10)"
   ]
  },
  {
   "cell_type": "code",
   "execution_count": 80,
   "metadata": {
    "trusted": true
   },
   "outputs": [
    {
     "name": "stderr",
     "output_type": "stream",
     "text": [
      "c:\\Python\\Python312\\Lib\\site-packages\\sklearn\\utils\\validation.py:2739: UserWarning: X does not have valid feature names, but LGBMRegressor was fitted with feature names\n",
      "  warnings.warn(\n"
     ]
    },
    {
     "name": "stdout",
     "output_type": "stream",
     "text": [
      "RMSE валидационной выборки: 17742.453435535022\n"
     ]
    }
   ],
   "source": [
    "# проверка лучшей модели на валидационной выборке\n",
    "pred = grid_search.best_estimator_.predict(X_val_sum)\n",
    "\n",
    "print(\"RMSE валидационной выборки:\", root_mean_squared_error(y_val, pred))"
   ]
  },
  {
   "cell_type": "markdown",
   "metadata": {},
   "source": [
    "## 5. Получение предсказания на тестовой выборке"
   ]
  },
  {
   "cell_type": "code",
   "execution_count": 81,
   "metadata": {},
   "outputs": [],
   "source": [
    "# преобразование признаков тестовой выборки\n",
    "X_test_cb = cb_encoder.transform(test[cb_columns]).add_suffix('_cb')"
   ]
  },
  {
   "cell_type": "code",
   "execution_count": 82,
   "metadata": {},
   "outputs": [],
   "source": [
    "# подготовка признаков nlp\n",
    "test_nlp = test[nlp_columns]"
   ]
  },
  {
   "cell_type": "code",
   "execution_count": 83,
   "metadata": {},
   "outputs": [
    {
     "name": "stdout",
     "output_type": "stream",
     "text": [
      "CPU times: total: 34.6 s\n",
      "Wall time: 36.1 s\n"
     ]
    },
    {
     "name": "stderr",
     "output_type": "stream",
     "text": [
      "<timed exec>:2: SettingWithCopyWarning: \n",
      "A value is trying to be set on a copy of a slice from a DataFrame.\n",
      "Try using .loc[row_indexer,col_indexer] = value instead\n",
      "\n",
      "See the caveats in the documentation: https://pandas.pydata.org/pandas-docs/stable/user_guide/indexing.html#returning-a-view-versus-a-copy\n"
     ]
    }
   ],
   "source": [
    "%%time\n",
    "# лемматизация тестовой выборки\n",
    "test_nlp.loc[:, 'vacancy_name_l'] = test_nlp.loc[:, 'vacancy_name'].apply(lemmatize)"
   ]
  },
  {
   "cell_type": "code",
   "execution_count": 84,
   "metadata": {},
   "outputs": [
    {
     "name": "stdout",
     "output_type": "stream",
     "text": [
      "CPU times: total: 6.5 s\n",
      "Wall time: 6.69 s\n"
     ]
    },
    {
     "name": "stderr",
     "output_type": "stream",
     "text": [
      "<timed exec>:1: SettingWithCopyWarning: \n",
      "A value is trying to be set on a copy of a slice from a DataFrame.\n",
      "Try using .loc[row_indexer,col_indexer] = value instead\n",
      "\n",
      "See the caveats in the documentation: https://pandas.pydata.org/pandas-docs/stable/user_guide/indexing.html#returning-a-view-versus-a-copy\n"
     ]
    }
   ],
   "source": [
    "%%time\n",
    "test_nlp.loc[:, 'hard_skills_l'] = test_nlp.loc[:, 'hard_skills'].apply(lemmatize)"
   ]
  },
  {
   "cell_type": "code",
   "execution_count": 85,
   "metadata": {},
   "outputs": [
    {
     "name": "stdout",
     "output_type": "stream",
     "text": [
      "CPU times: total: 2.12 s\n",
      "Wall time: 2.15 s\n"
     ]
    },
    {
     "name": "stderr",
     "output_type": "stream",
     "text": [
      "<timed exec>:1: SettingWithCopyWarning: \n",
      "A value is trying to be set on a copy of a slice from a DataFrame.\n",
      "Try using .loc[row_indexer,col_indexer] = value instead\n",
      "\n",
      "See the caveats in the documentation: https://pandas.pydata.org/pandas-docs/stable/user_guide/indexing.html#returning-a-view-versus-a-copy\n"
     ]
    }
   ],
   "source": [
    "%%time\n",
    "test_nlp.loc[:, 'soft_skills_l'] = test_nlp.loc[:, 'soft_skills'].apply(lemmatize)"
   ]
  },
  {
   "cell_type": "code",
   "execution_count": 86,
   "metadata": {},
   "outputs": [
    {
     "name": "stdout",
     "output_type": "stream",
     "text": [
      "CPU times: total: 2min\n",
      "Wall time: 2min 2s\n"
     ]
    },
    {
     "name": "stderr",
     "output_type": "stream",
     "text": [
      "<timed exec>:1: SettingWithCopyWarning: \n",
      "A value is trying to be set on a copy of a slice from a DataFrame.\n",
      "Try using .loc[row_indexer,col_indexer] = value instead\n",
      "\n",
      "See the caveats in the documentation: https://pandas.pydata.org/pandas-docs/stable/user_guide/indexing.html#returning-a-view-versus-a-copy\n"
     ]
    }
   ],
   "source": [
    "%%time\n",
    "test_nlp.loc[:, 'qualifications_l'] = test_nlp.loc[:, 'qualifications'].apply(lemmatize)"
   ]
  },
  {
   "cell_type": "code",
   "execution_count": 87,
   "metadata": {},
   "outputs": [
    {
     "name": "stdout",
     "output_type": "stream",
     "text": [
      "CPU times: total: 5min 3s\n",
      "Wall time: 5min 5s\n"
     ]
    },
    {
     "name": "stderr",
     "output_type": "stream",
     "text": [
      "<timed exec>:1: SettingWithCopyWarning: \n",
      "A value is trying to be set on a copy of a slice from a DataFrame.\n",
      "Try using .loc[row_indexer,col_indexer] = value instead\n",
      "\n",
      "See the caveats in the documentation: https://pandas.pydata.org/pandas-docs/stable/user_guide/indexing.html#returning-a-view-versus-a-copy\n"
     ]
    }
   ],
   "source": [
    "%%time\n",
    "test_nlp.loc[:, 'responsibilities_l'] = test_nlp.loc[:, 'responsibilities'].apply(lemmatize)"
   ]
  },
  {
   "cell_type": "code",
   "execution_count": 88,
   "metadata": {},
   "outputs": [],
   "source": [
    "# удаление необработанных признаков\n",
    "test_nlp = test_nlp.drop(nlp_columns, axis=1)"
   ]
  },
  {
   "cell_type": "code",
   "execution_count": 89,
   "metadata": {},
   "outputs": [
    {
     "name": "stdout",
     "output_type": "stream",
     "text": [
      "CPU times: total: 875 ms\n",
      "Wall time: 861 ms\n"
     ]
    }
   ],
   "source": [
    "%%time\n",
    "# преобразование корпуса слов тестовой выборки\n",
    "vac_nam_test = test_nlp['vacancy_name_l'].tolist()\n",
    "vac_nam_test_tf_idf = vectorizer_vac_nam.transform(vac_nam_test)"
   ]
  },
  {
   "cell_type": "code",
   "execution_count": 90,
   "metadata": {},
   "outputs": [
    {
     "name": "stdout",
     "output_type": "stream",
     "text": [
      "CPU times: total: 422 ms\n",
      "Wall time: 430 ms\n"
     ]
    }
   ],
   "source": [
    "%%time\n",
    "hard_test = test_nlp['hard_skills_l'].tolist()\n",
    "hard_test_tf_idf = vectorizer_hard.transform(hard_test)"
   ]
  },
  {
   "cell_type": "code",
   "execution_count": 91,
   "metadata": {},
   "outputs": [
    {
     "name": "stdout",
     "output_type": "stream",
     "text": [
      "CPU times: total: 344 ms\n",
      "Wall time: 335 ms\n"
     ]
    }
   ],
   "source": [
    "%%time\n",
    "soft_test = test_nlp['soft_skills_l'].tolist()\n",
    "soft_test_tf_idf = vectorizer_soft.transform(soft_test)"
   ]
  },
  {
   "cell_type": "code",
   "execution_count": 92,
   "metadata": {},
   "outputs": [
    {
     "name": "stdout",
     "output_type": "stream",
     "text": [
      "CPU times: total: 2.47 s\n",
      "Wall time: 2.46 s\n"
     ]
    }
   ],
   "source": [
    "%%time\n",
    "qual_test = test_nlp['qualifications_l'].tolist()\n",
    "qual_test_tf_idf = vectorizer_qual.transform(qual_test)"
   ]
  },
  {
   "cell_type": "code",
   "execution_count": 93,
   "metadata": {},
   "outputs": [
    {
     "name": "stdout",
     "output_type": "stream",
     "text": [
      "CPU times: total: 6.03 s\n",
      "Wall time: 6.03 s\n"
     ]
    }
   ],
   "source": [
    "%%time\n",
    "resp_test = test_nlp['responsibilities_l'].tolist()\n",
    "resp_test_tf_idf = vectorizer_resp.transform(resp_test)"
   ]
  },
  {
   "cell_type": "code",
   "execution_count": 94,
   "metadata": {},
   "outputs": [],
   "source": [
    "# соединение матриц\n",
    "X_test_tf_idf = hstack([vac_nam_test_tf_idf, hard_test_tf_idf, soft_test_tf_idf, qual_test_tf_idf, resp_test_tf_idf])"
   ]
  },
  {
   "cell_type": "code",
   "execution_count": 95,
   "metadata": {},
   "outputs": [],
   "source": [
    "# добавление catboost признаков\n",
    "X_test_cb_matrix = csr_matrix(X_test_cb.values)\n",
    "\n",
    "X_test_sum = hstack([X_test_tf_idf, X_test_cb_matrix])"
   ]
  },
  {
   "cell_type": "code",
   "execution_count": 96,
   "metadata": {},
   "outputs": [
    {
     "name": "stderr",
     "output_type": "stream",
     "text": [
      "c:\\Python\\Python312\\Lib\\site-packages\\sklearn\\utils\\validation.py:2739: UserWarning: X does not have valid feature names, but LGBMRegressor was fitted with feature names\n",
      "  warnings.warn(\n"
     ]
    }
   ],
   "source": [
    "# получение предсказаний на тестовой выборке\n",
    "test_pred = grid_search.best_estimator_.predict(X_test_sum)"
   ]
  },
  {
   "cell_type": "code",
   "execution_count": 97,
   "metadata": {},
   "outputs": [],
   "source": [
    "# запись submission file\n",
    "submission = pd.Series(test_pred, index=test.index, name='salary')\n",
    "submission.to_csv('submission.csv')"
   ]
  }
 ],
 "metadata": {
  "kaggle": {
   "accelerator": "none",
   "dataSources": [
    {
     "databundleVersionId": 10601859,
     "sourceId": 90805,
     "sourceType": "competition"
    }
   ],
   "dockerImageVersionId": 30822,
   "isGpuEnabled": false,
   "isInternetEnabled": true,
   "language": "python",
   "sourceType": "notebook"
  },
  "kernelspec": {
   "display_name": "Python 3",
   "language": "python",
   "name": "python3"
  },
  "language_info": {
   "codemirror_mode": {
    "name": "ipython",
    "version": 3
   },
   "file_extension": ".py",
   "mimetype": "text/x-python",
   "name": "python",
   "nbconvert_exporter": "python",
   "pygments_lexer": "ipython3",
   "version": "3.12.4"
  }
 },
 "nbformat": 4,
 "nbformat_minor": 4
}
